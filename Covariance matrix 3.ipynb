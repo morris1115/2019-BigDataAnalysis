{
 "cells": [
  {
   "cell_type": "markdown",
   "metadata": {
    "colab_type": "text",
    "id": "D2VUCcpqmv7Y"
   },
   "source": [
    "# Covariance Matrix(3)\n",
    "- - -\n",
    "\n",
    "#### 1. Covariance Matrix - 학습했던 내용!!!\n",
    "\n",
    "* Calculating the mean of Sample Vectors - HW7 \n",
    "\n",
    "* Outer product of sample vectors - HW8 \n",
    "\n",
    "* Covariance Matrix - HW8 \n",
    "\n",
    "#### 2. 새로운 sample mean vector와 outer product를 구하는 방법으로 Covariance Matrix(HW8의 방법 3 적용) 구하기\n",
    "* Calculating the mean of a vector & outer product with nan's\n",
    "* ★Computing the mean together with the covariance★\n",
    "- - -"
   ]
  },
  {
   "cell_type": "markdown",
   "metadata": {
    "colab_type": "text",
    "id": "dMUkFBYmmv7b"
   },
   "source": [
    "#### pyspark import & SparkContext 생성"
   ]
  },
  {
   "cell_type": "code",
   "execution_count": 1,
   "metadata": {
    "colab": {},
    "colab_type": "code",
    "id": "8rey9WZEmv7b",
    "outputId": "d4d5f2c3-872c-4efe-f617-128c557c75f2"
   },
   "outputs": [
    {
     "name": "stdout",
     "output_type": "stream",
     "text": [
      "<SparkContext master=local[*] appName=pyspark-shell>\n",
      "<pyspark.sql.context.SQLContext object at 0x7f804112db38>\n"
     ]
    }
   ],
   "source": [
    "from pyspark import SparkContext\n",
    "from pyspark.sql import SQLContext\n",
    "from pyspark.sql.types import Row, StructField, StructType, StringType, IntegerType\n",
    "\n",
    "sc = SparkContext(master=\"local[*]\")\n",
    "print(sc)\n",
    "\n",
    "# Just like using Spark requires having a SparkContext, using SQL requires an SQLContext\n",
    "sqlContext = SQLContext(sc)\n",
    "print(sqlContext)"
   ]
  },
  {
   "cell_type": "markdown",
   "metadata": {
    "colab_type": "text",
    "id": "7q1qoNc4Yk5N"
   },
   "source": [
    "### 1. Calculating the mean of a vector & outer product with nan's\n",
    "* We often get vectors $\\mathbf{x}$ in which some, but not all, of the entries are `nan`. \n",
    "* We want to compute the mean of the elements of $\\mathbf{x}$. \n",
    "* If we use `np.mean` we will get the result `nan`. \n",
    "* A useful alternative is to use `np.nanmean` which removes the `nan` elements and takes the mean of the rest."
   ]
  },
  {
   "cell_type": "markdown",
   "metadata": {
    "colab_type": "text",
    "id": "d5-nuZLcYjQh"
   },
   "source": []
  },
  {
   "cell_type": "markdown",
   "metadata": {
    "colab_type": "text",
    "id": "rfZmogYe3LBn"
   },
   "source": [
    "#### (1) nan이란 무엇인가\n",
    "* Not a Number의 약어\n",
    "* **표현 불가능한 수치형 결과**를 나타내는 값"
   ]
  },
  {
   "cell_type": "code",
   "execution_count": 2,
   "metadata": {
    "colab": {},
    "colab_type": "code",
    "id": "e0gIHk0u3LBo",
    "outputId": "2e806bab-41ba-47dc-da12-95ed1ee7f2ed"
   },
   "outputs": [
    {
     "name": "stdout",
     "output_type": "stream",
     "text": [
      "a= [ 1. nan  2. nan  3.  4.  5.]\n",
      "np.mean(a)= nan\n",
      "np.mean(np.nan_to_num(a))= 2.142857142857143\n",
      "np.nanmean(a)= 3.0\n"
     ]
    }
   ],
   "source": [
    "import numpy as np\n",
    "a=np.array([1,np.nan,2,np.nan,3,4,5])\n",
    "print('a=',a)\n",
    "print('np.mean(a)=',np.mean(a)) # nan이 포함되어 있기 때문에 계산이 되지 않는다.\n",
    "\n",
    "# nan을 특정한 수치로 처리하여 계산할 것인가? 아니면 빼고 계산할 것인가?\n",
    "# 사용하고자 하는 방법에 따라 계산된 결과가 다르다!!!!!!!!!\n",
    "print('np.mean(np.nan_to_num(a))=',np.mean(np.nan_to_num(a))) # =(1+0+2+0+3+4+5)/7\n",
    "print('np.nanmean(a)=',np.nanmean(a)) # =(1+2+3+4+5)/5"
   ]
  },
  {
   "cell_type": "markdown",
   "metadata": {
    "colab_type": "text",
    "id": "ZyFOoUid3LBr"
   },
   "source": [
    "#### (2) nan과 관련된 함수들...\n",
    "* np.nan* 으로 확인\n",
    "* `np.nan`, `np.isnan`, `np nan_to_num`, `np.nansum`, `np.nanmean` 등등\n",
    "* 목적에 따라 선택하여 사용할 것."
   ]
  },
  {
   "cell_type": "code",
   "execution_count": 3,
   "metadata": {
    "colab": {},
    "colab_type": "code",
    "id": "PFB0VrqU3LBs",
    "outputId": "9d75ee6e-c785-49eb-cc65-e8bf1ff84e61"
   },
   "outputs": [
    {
     "name": "stdout",
     "output_type": "stream",
     "text": [
      "# np.nan을 이용하여 nan을 생성할 수 있다.\n",
      "nan\n",
      "nan list =  [nan, nan, nan]\n"
     ]
    }
   ],
   "source": [
    "print(\"# np.nan을 이용하여 nan을 생성할 수 있다.\")\n",
    "print(np.nan)\n",
    "print('nan list = ',[np.nan, np.nan, np.nan])"
   ]
  },
  {
   "cell_type": "code",
   "execution_count": 4,
   "metadata": {
    "colab": {},
    "colab_type": "code",
    "id": "uvqD9zdA3LBv",
    "outputId": "42f621d0-68e9-4b44-b79a-dd6b06ad44f1"
   },
   "outputs": [
    {
     "name": "stdout",
     "output_type": "stream",
     "text": [
      "# np.isnan을 이용하여 boolean 값을 획득할 수 있다(nan일 경우 True return).\n",
      "a =  [ 1. nan  2. nan  3.  4.  5.]\n",
      "np.isnan(a) =  [False  True False  True False False False]\n"
     ]
    }
   ],
   "source": [
    "print(\"# np.isnan을 이용하여 boolean 값을 획득할 수 있다(nan일 경우 True return).\")\n",
    "a = np.array([1,np.nan,2,np.nan,3,4,5])\n",
    "print(\"a = \", a)\n",
    "print(\"np.isnan(a) = \", np.isnan(a))"
   ]
  },
  {
   "cell_type": "code",
   "execution_count": 5,
   "metadata": {
    "colab": {},
    "colab_type": "code",
    "id": "vZVrWg763LBy",
    "outputId": "72857ab2-0da8-4913-8095-e89f9bc8ebe0"
   },
   "outputs": [
    {
     "name": "stdout",
     "output_type": "stream",
     "text": [
      "# nan_to_num을 이용하여 nan을 특정한 값(0)으로 바꿀 수 있다.\n",
      "a =  [ 1. nan  2. nan  3.  4.  5.]\n",
      "np.nan_to_num(a) =  [1. 0. 2. 0. 3. 4. 5.]\n"
     ]
    }
   ],
   "source": [
    "print(\"# nan_to_num을 이용하여 nan을 특정한 값(0)으로 바꿀 수 있다.\")\n",
    "print(\"a = \", a)\n",
    "print(\"np.nan_to_num(a) = \", np.nan_to_num(a))"
   ]
  },
  {
   "cell_type": "code",
   "execution_count": 6,
   "metadata": {
    "colab": {},
    "colab_type": "code",
    "id": "YZPNvnTl3LB1",
    "outputId": "9eff4aa5-5647-45bc-9d6c-eeb5947dbdac",
    "scrolled": true
   },
   "outputs": [
    {
     "name": "stdout",
     "output_type": "stream",
     "text": [
      "nan을 특정한 겂으로 처리한 후의 sum =  15.0\n",
      "nan을 바꾸지 않은 후의 sum =  nan\n"
     ]
    }
   ],
   "source": [
    "print(\"nan을 특정한 겂으로 처리한 후의 sum = \",sum(np.nan_to_num(a)))\n",
    "print(\"nan을 바꾸지 않은 후의 sum = \", sum(a))"
   ]
  },
  {
   "cell_type": "markdown",
   "metadata": {
    "colab_type": "text",
    "id": "76qG_j3e3LB3"
   },
   "source": [
    "**★★ isnan으로부터 생성된 nan의 True/False를 수치형으로 변환**\n",
    "\n",
    "* `np.isnan(a) = array([False,  True, False,  True, False, False, False])`\n",
    "\n",
    "* `1-np.isnan(a) = array([1, 0, 1, 0, 1, 1, 1])`  "
   ]
  },
  {
   "cell_type": "code",
   "execution_count": 7,
   "metadata": {
    "colab": {},
    "colab_type": "code",
    "id": "l4XAblLn3LB4",
    "outputId": "06a6e9f7-9ee0-459a-cb4c-cecb187c8797",
    "scrolled": true
   },
   "outputs": [
    {
     "name": "stdout",
     "output_type": "stream",
     "text": [
      "np.isnan(a) =  [False  True False  True False False False]\n",
      "1-np.isnan(a) =  [1 0 1 0 1 1 1]\n",
      "nan의 개수 파악하기 =  5\n"
     ]
    }
   ],
   "source": [
    "print(\"np.isnan(a) = \",np.isnan(a))\n",
    "print(\"1-np.isnan(a) = \",1 - np.isnan(a))\n",
    "print(\"nan의 개수 파악하기 = \",sum(1-np.isnan(a)))"
   ]
  },
  {
   "cell_type": "markdown",
   "metadata": {
    "colab_type": "text",
    "id": "WEflp4HB3LB7"
   },
   "source": [
    "#### (3) Calculating the mean of a vector with nan's"
   ]
  },
  {
   "cell_type": "code",
   "execution_count": 8,
   "metadata": {
    "colab": {},
    "colab_type": "code",
    "id": "AOTg8L-J3LB8",
    "outputId": "8da91862-8670-4ffb-f41a-a3f66b8f38ee"
   },
   "outputs": [
    {
     "data": {
      "text/plain": [
       "3.0"
      ]
     },
     "execution_count": 8,
     "metadata": {},
     "output_type": "execute_result"
    }
   ],
   "source": [
    "sum(np.nan_to_num(a))/sum(1-np.isnan(a))"
   ]
  },
  {
   "cell_type": "markdown",
   "metadata": {
    "colab_type": "text",
    "id": "3ywp5s_X3LB_"
   },
   "source": [
    "#### (4) Calculating the outer product of a vector with nan's"
   ]
  },
  {
   "cell_type": "code",
   "execution_count": 9,
   "metadata": {
    "colab": {},
    "colab_type": "code",
    "id": "55tWTOUa3LCA",
    "outputId": "5816a52c-81cc-4750-c35a-6bf410902526"
   },
   "outputs": [
    {
     "name": "stdout",
     "output_type": "stream",
     "text": [
      "outer product with nan\n",
      "-> [[ 1. nan  2. nan  3.  4.  5.]\n",
      " [nan nan nan nan nan nan nan]\n",
      " [ 2. nan  4. nan  6.  8. 10.]\n",
      " [nan nan nan nan nan nan nan]\n",
      " [ 3. nan  6. nan  9. 12. 15.]\n",
      " [ 4. nan  8. nan 12. 16. 20.]\n",
      " [ 5. nan 10. nan 15. 20. 25.]]\n",
      "\n",
      " [[1 0 1 0 1 1 1]\n",
      " [0 0 0 0 0 0 0]\n",
      " [1 0 1 0 1 1 1]\n",
      " [0 0 0 0 0 0 0]\n",
      " [1 0 1 0 1 1 1]\n",
      " [1 0 1 0 1 1 1]\n",
      " [1 0 1 0 1 1 1]]\n"
     ]
    }
   ],
   "source": [
    "S =np.outer(a,a)\n",
    "N =1-np.isnan(S)\n",
    "\n",
    "print(\"outer product with nan\\n->\", S)\n",
    "print(\"\\n\",N)"
   ]
  },
  {
   "cell_type": "markdown",
   "metadata": {
    "colab_type": "text",
    "id": "7dSX8F5D3LCC"
   },
   "source": [
    "### Computing the covariance  when there are `nan`s\n",
    "The covariance is a mean of outer products.\n",
    "\n",
    "We calculate two matrices:\n",
    "* $S$ - the sum of the matrices, where `nan`->0\n",
    "* $N$ - the number of not-`nan` element for each matrix location.\n",
    "\n",
    "We then calculate the mean as $S/N$ (division is done element-wise)"
   ]
  },
  {
   "cell_type": "markdown",
   "metadata": {
    "colab_type": "text",
    "id": "Y9h5mGSl3LCD"
   },
   "source": [
    "- - - - - - - - - - - - - -"
   ]
  },
  {
   "cell_type": "markdown",
   "metadata": {
    "colab_type": "text",
    "id": "sqDFod-k3LCE"
   },
   "source": [
    "### 2. Computing the mean together with the covariance\n",
    "\n",
    "To compute the covariance matrix we need to compute both $\\hat{E}(\\mathbf{x}^T \\mathbf{x})$ and $\\hat{E}(\\mathbf{x})$. Using a simple trick, we can compute both at the same time.\n",
    "\n",
    "- - -\n",
    "(1) Step 1\n",
    "\n",
    "Here is the trick: lets denote a $d$ dimensional **column vector** by $\\mathbf{x} = (x_1,x_2,\\ldots,x_d)$ (note that the subscript here is the index of the coordinate, not the index of the example in the training set as used above). \n",
    "\n",
    "The augmented vector $\\mathbf{x}'$ is defined to be the $d+1$ dimensional vector $\\mathbf{x}' = (1,x_1,x_2,\\ldots,x_d)$.\n",
    "\n",
    "- - -\n",
    "(2) Step 2\n",
    "\n",
    "The outer product of $\\mathbf{x}'$ with itself is equal to \n",
    "\n",
    "$$ {\\mathbf{x}'}^T {\\mathbf{x}'}\n",
    "= \\left[\\begin{array}{c|ccc}\n",
    "    1 &  &{\\mathbf{x}'} &\\\\\n",
    "    \\hline \\\\\n",
    "    {\\mathbf{x}'}^T & &{\\mathbf{x}'}^T {\\mathbf{x}'} \\\\ \\\\\n",
    "    \\end{array}\n",
    "    \\right]\n",
    "$$\n",
    "\n",
    "Where the lower left matrix is the original outer product ${\\mathbf{x}'}^T{\\mathbf{x}'}$ and the first row and the first column are ${\\mathbf{x}'}$ and ${\\mathbf{x}'}^T$ respectively.\n",
    "\n",
    "- - -\n",
    "(3) Step 3\n",
    "\n",
    "Now suppose that we do the take the average of the outer product of the augmented vector and convince yourself that:\n",
    "$$\n",
    "\\hat{E}({\\mathbf{x}'}^T{\\mathbf{x}'}) = \\frac{1}{n} \\sum_{i=1}^n {\\mathbf{x}'}_i^T{\\mathbf{x}'}_i\n",
    "= \\left[\\begin{array}{c|ccc}\n",
    "    1 &  &\\hat{E}({\\mathbf{x}'}) &\\\\\n",
    "    \\hline \\\\\n",
    "    \\hat{E}({\\mathbf{x}'}^T) & &\\hat{E}({\\mathbf{x}'}^T{\\mathbf{x}'}) \\\\ \\\\\n",
    "    \\end{array}\n",
    "    \\right]\n",
    "$$\n",
    "\n",
    "So indeed, we have produced the outer product average together with (two copies of) the average $\\hat{E}({\\mathbf{x}'}^T)$\n",
    "\n",
    "**★★★★★여기서 n은 non-nan의 sum★★★★★**\n",
    "\n",
    "- - -\n",
    "(4) Step 4\n",
    "\n",
    "Computing covariance matrix\n",
    "\n",
    "\\begin{align*}\n",
    "\\text{Cov}(\\mathbf{x}) &= \\hat E({\\mathbf{x}'}^T{\\mathbf{x}'}) \\ - \\hat{E}({\\mathbf{x}'})^T\\hat{E}({\\mathbf{x}'})\n",
    "\\end{align*}"
   ]
  },
  {
   "cell_type": "code",
   "execution_count": 10,
   "metadata": {
    "colab": {},
    "colab_type": "code",
    "id": "x6ITkWS93LCF",
    "outputId": "bfd14a32-4a8f-4d61-fda3-9523b245025d"
   },
   "outputs": [
    {
     "name": "stdout",
     "output_type": "stream",
     "text": [
      "★Step 1★\n",
      "\n",
      "각 sample의 값\n",
      "->  [ 2. nan  3.  5.] [ 4.  5. nan 10.] [ 7. 30.  9. nan]\n",
      "\n",
      "trick이 적용된 각 sample의 값\n",
      "->  [ 1.  2. nan  3.  5.] [ 1.  4.  5. nan 10.] [ 1.  7. 30.  9. nan]\n"
     ]
    }
   ],
   "source": [
    "# in python\n",
    "import numpy as np\n",
    "\n",
    "print(\"★Step 1★\\n\")\n",
    "\n",
    "sample1 = np.array([2,np.nan,3,5], dtype = 'float16')\n",
    "sample2 = np.array([4,5,np.nan,10], dtype = 'float16')\n",
    "sample3 = np.array([7,30,9,np.nan], dtype = 'float16')\n",
    "print(\"각 sample의 값\\n-> \", sample1, sample2, sample3)\n",
    "\n",
    "# nan이 있는 sample에서 sample mean을 구하기 위한 trick 적용\n",
    "sample1_trick = np.insert(sample1, 0, 1)\n",
    "sample2_trick = np.insert(sample2, 0, 1)\n",
    "sample3_trick = np.insert(sample3, 0, 1)\n",
    "print(\"\\ntrick이 적용된 각 sample의 값\\n-> \", sample1_trick, sample2_trick, sample3_trick)"
   ]
  },
  {
   "cell_type": "code",
   "execution_count": 11,
   "metadata": {
    "colab": {},
    "colab_type": "code",
    "id": "pGg6-18B3LCH",
    "outputId": "eeed42db-d521-4ecd-833f-6c3c7711a17c"
   },
   "outputs": [
    {
     "name": "stdout",
     "output_type": "stream",
     "text": [
      "★Step 2★\n",
      "\n",
      "sample1_trick의 outer product\n",
      "-> [[ 1.  2. nan  3.  5.]\n",
      " [ 2.  4. nan  6. 10.]\n",
      " [nan nan nan nan nan]\n",
      " [ 3.  6. nan  9. 15.]\n",
      " [ 5. 10. nan 15. 25.]]\n",
      "\n",
      "sample2_trick의 outer product\n",
      "-> [[  1.   4.   5.  nan  10.]\n",
      " [  4.  16.  20.  nan  40.]\n",
      " [  5.  20.  25.  nan  50.]\n",
      " [ nan  nan  nan  nan  nan]\n",
      " [ 10.  40.  50.  nan 100.]]\n",
      "\n",
      "sample3_trick의 outer product\n",
      "-> [[  1.   7.  30.   9.  nan]\n",
      " [  7.  49. 210.  63.  nan]\n",
      " [ 30. 210. 900. 270.  nan]\n",
      " [  9.  63. 270.  81.  nan]\n",
      " [ nan  nan  nan  nan  nan]]\n",
      "\n",
      "sample1_trick outer product의 non-nan\n",
      "-> [[1 1 0 1 1]\n",
      " [1 1 0 1 1]\n",
      " [0 0 0 0 0]\n",
      " [1 1 0 1 1]\n",
      " [1 1 0 1 1]]\n",
      "\n",
      "sample2_trick outer product의 non-nan\n",
      "-> [[1 1 1 0 1]\n",
      " [1 1 1 0 1]\n",
      " [1 1 1 0 1]\n",
      " [0 0 0 0 0]\n",
      " [1 1 1 0 1]]\n",
      "\n",
      "sample3_trick outer product의 non-nan\n",
      "-> [[1 1 1 1 0]\n",
      " [1 1 1 1 0]\n",
      " [1 1 1 1 0]\n",
      " [1 1 1 1 0]\n",
      " [0 0 0 0 0]]\n"
     ]
    }
   ],
   "source": [
    "# outer product 구하기 \n",
    "print(\"★Step 2★\\n\")\n",
    "\n",
    "sample1_outer = np.outer(sample1_trick, sample1_trick)\n",
    "sample2_outer = np.outer(sample2_trick, sample2_trick)\n",
    "sample3_outer = np.outer(sample3_trick, sample3_trick)\n",
    "\n",
    "print(\"sample1_trick의 outer product\\n->\", sample1_outer)\n",
    "print(\"\\nsample2_trick의 outer product\\n->\", sample2_outer)\n",
    "print(\"\\nsample3_trick의 outer product\\n->\", sample3_outer)\n",
    "\n",
    "# outer product의 non-nan 개수 구하기\n",
    "sample1_outer_nonnan = 1 - np.isnan(sample1_outer)\n",
    "sample2_outer_nonnan = 1 - np.isnan(sample2_outer)\n",
    "sample3_outer_nonnan = 1 - np.isnan(sample3_outer)\n",
    "\n",
    "print(\"\\nsample1_trick outer product의 non-nan\\n->\", sample1_outer_nonnan)\n",
    "print(\"\\nsample2_trick outer product의 non-nan\\n->\", sample2_outer_nonnan)\n",
    "print(\"\\nsample3_trick outer product의 non-nan\\n->\", sample3_outer_nonnan)"
   ]
  },
  {
   "cell_type": "code",
   "execution_count": 12,
   "metadata": {
    "colab": {},
    "colab_type": "code",
    "id": "TzZNa49X3LCK",
    "outputId": "a4406d33-b68f-4593-90f3-48be3038ee15"
   },
   "outputs": [
    {
     "name": "stdout",
     "output_type": "stream",
     "text": [
      "★Step 3★\n",
      "\n",
      "sample outer product sum\n",
      "-> [[  3.  13.  35.  12.  15.]\n",
      " [ 13.  69. 230.  69.  50.]\n",
      " [ 35. 230. 925. 270.  50.]\n",
      " [ 12.  69. 270.  90.  15.]\n",
      " [ 15.  50.  50.  15. 125.]]\n",
      "\n",
      "sample non-nan sum\n",
      "-> [[3 3 2 2 2]\n",
      " [3 3 2 2 2]\n",
      " [2 2 2 1 1]\n",
      " [2 2 1 2 1]\n",
      " [2 2 1 1 2]]\n",
      "\n",
      "sample mean vector\n",
      "-> [ 4.332 17.5    6.     7.5  ]\n",
      "\n",
      "outer product의 sum\n",
      "-> [[ 23.  115.   34.5  25. ]\n",
      " [115.  462.5 270.   50. ]\n",
      " [ 34.5 270.   45.   15. ]\n",
      " [ 25.   50.   15.   62.5]]\n"
     ]
    }
   ],
   "source": [
    "# outerproduct의 sum\n",
    "print(\"★Step 3★\\n\")\n",
    "\n",
    "sample_outer_sum = np.nansum(np.dstack([sample1_outer, sample2_outer]), axis=2)\n",
    "sample_outer_sum = np.nansum(np.dstack([sample_outer_sum, sample3_outer]), axis=2)\n",
    "print(\"sample outer product sum\\n->\", sample_outer_sum)\n",
    "\n",
    "# non-name의 sum\n",
    "sample_nonnan_sum = sample1_outer_nonnan + sample2_outer_nonnan + sample3_outer_nonnan\n",
    "print(\"\\nsample non-nan sum\\n->\", sample_nonnan_sum)\n",
    "\n",
    "print(\"\\nsample mean vector\\n->\", \n",
    "      sample_outer_sum[0, 1:] / np.float16(sample_nonnan_sum[0, 1:]))\n",
    "print(\"\\nouter product의 sum\\n->\",\\\n",
    "      sample_outer_sum[1:, 1:] / np.float16(sample_nonnan_sum[1:, 1:]))"
   ]
  },
  {
   "cell_type": "code",
   "execution_count": 13,
   "metadata": {
    "colab": {},
    "colab_type": "code",
    "id": "XvF61CiP3LCN",
    "outputId": "c2b03094-b9e5-42f9-ed53-a9676639ad80"
   },
   "outputs": [
    {
     "name": "stdout",
     "output_type": "stream",
     "text": [
      "★Step 4★\n",
      "\n",
      "Covariance Matrix\n",
      "-> [[  4.234  39.2     8.5    -7.5  ]\n",
      " [ 39.2   156.2   165.    -81.25 ]\n",
      " [  8.5   165.      9.    -30.   ]\n",
      " [ -7.5   -81.25  -30.      6.25 ]]\n"
     ]
    }
   ],
   "source": [
    "# Computing covariance matrix(HW8의 3번째 방법 이용)\n",
    "print(\"★Step 4★\\n\")\n",
    "\n",
    "sample_mean_vector = sample_outer_sum[0, 1:] / np.float16(sample_nonnan_sum[0, 1:])\n",
    "sample_outer_sum = sample_outer_sum[1:, 1:] / np.float16(sample_nonnan_sum[1:, 1:])\n",
    "\n",
    "cov = sample_outer_sum - np.outer(sample_mean_vector, sample_mean_vector)\n",
    "print(\"Covariance Matrix\\n->\", cov)"
   ]
  },
  {
   "cell_type": "code",
   "execution_count": null,
   "metadata": {
    "colab": {},
    "colab_type": "code",
    "id": "rm1Gx7_W3LCP"
   },
   "outputs": [],
   "source": []
  },
  {
   "cell_type": "markdown",
   "metadata": {
    "colab_type": "text",
    "id": "rfBOSur4Z9pW"
   },
   "source": [
    "### Excercise 1 - \n",
    "#### 위의 Example에서 Python으로 적용한 부분을 Spark로 적용해보자!! (40 point)\n",
    "\n",
    "- - -\n",
    "\n",
    "다음 데이터에 대하여 다음 과제를 수행하세요.\n",
    "\n",
    "```\n",
    "sample1 = np.array([2,np.nan,3,5])\n",
    "sample2 = np.array([4,5,np.nan,10])\n",
    "sample3 = np.array([7,30,9,np.nan])\n",
    "```\n",
    "\n",
    "위에서 진행된 Step 1 ~ Step 4(Python)를 Spark로 구현하세요!!\n",
    "\n",
    "**task**\n",
    "\n",
    "* 1 : Step 1 (10 point)\n",
    "\n",
    "<br>\n",
    "\n",
    "* 2 : Step 2 (10 point)\n",
    "\n",
    "<br>\n",
    "\n",
    "* 3 : Step 3 (10 point)\n",
    "\n",
    "<br>\n",
    "\n",
    "* 4 : Step 4 (10 point)"
   ]
  },
  {
   "cell_type": "markdown",
   "metadata": {
    "colab_type": "text",
    "id": "Ch7u6nuNZ9pX"
   },
   "source": [
    "**task**\n",
    "\n",
    "* 1 : Here is the trick: lets denote a $d$ dimensional **column vector** by $\\mathbf{x} = (x_1,x_2,\\ldots,x_d)$ (note that the subscript here is the index of the coordinate, not the index of the example in the training set as used above). \n",
    "\n",
    "The augmented vector $\\mathbf{x}'$ is defined to be the $d+1$ dimensional vector $\\mathbf{x}' = (1,x_1,x_2,\\ldots,x_d)$. (10 point)\n",
    "- - -\n",
    "```\n",
    "# task 1-1 output\n",
    "[array([ 1.,  2., nan,  3.,  5.], dtype=float16),\n",
    " array([ 1.,  4.,  5., nan, 10.], dtype=float16),\n",
    " array([ 1.,  7., 30.,  9., nan], dtype=float16)]\n",
    " ```"
   ]
  },
  {
   "cell_type": "code",
   "execution_count": 14,
   "metadata": {
    "colab": {},
    "colab_type": "code",
    "id": "X5ZhQ1mB3LCT"
   },
   "outputs": [
    {
     "name": "stdout",
     "output_type": "stream",
     "text": [
      "# task 1-1 output\n"
     ]
    },
    {
     "data": {
      "text/plain": [
       "[array([ 1.,  2., nan,  3.,  5.], dtype=float16),\n",
       " array([ 1.,  4.,  5., nan, 10.], dtype=float16),\n",
       " array([ 1.,  7., 30.,  9., nan], dtype=float16)]"
      ]
     },
     "execution_count": 14,
     "metadata": {},
     "output_type": "execute_result"
    }
   ],
   "source": [
    "# task 1-1 답안 작성\n",
    "sample1 = np.insert(sample1, 0, 1) # sample1에 0번째 인덱스에 1을 추가\n",
    "sample2 = np.insert(sample2, 0, 1) # sample2에 0번째 인덱스에 1을 추가\n",
    "sample3 = np.insert(sample3, 0, 1) # sample3에 0번째 인덱스에 1을 추가\n",
    "task1_1 = sc.parallelize([(sample1),(sample2),(sample3)]) # 이런 sample들을 rdd화 하여 task1_1에 저장 후 array타입으로 출력\n",
    "# output\n",
    "print(\"# task 1-1 output\")\n",
    "task1_1.collect()           "
   ]
  },
  {
   "cell_type": "markdown",
   "metadata": {
    "colab_type": "text",
    "id": "mSHUTYKfZ9pc"
   },
   "source": [
    "**task**\n",
    "\n",
    "* 2 : \n",
    "\n",
    "The outer product of $\\mathbf{x}'$ with itself is equal to \n",
    "\n",
    "$$ {\\mathbf{x}'}^T {\\mathbf{x}'}\n",
    "= \\left[\\begin{array}{c|ccc}\n",
    "    1 &  &{\\mathbf{x}'} &\\\\\n",
    "    \\hline \\\\\n",
    "    {\\mathbf{x}'}^T & &{\\mathbf{x}'}^T {\\mathbf{x}'} \\\\ \\\\\n",
    "    \\end{array}\n",
    "    \\right]\n",
    "$$\n",
    "\n",
    "Where the lower left matrix is the original outer product ${\\mathbf{x}'}^T{\\mathbf{x}'}$ and the first row and the first column are ${\\mathbf{x}'}$ and ${\\mathbf{x}'}^T$ respectively.\n",
    "\n",
    "- - -\n",
    "\n",
    "**★ sample의 outer prodcut와 outer product의 non-nan을 구할 것.!!**\n",
    "\n",
    "```\n",
    "# task 1-2\n",
    "sample outer product\n",
    "-> [array([[ 1.,  2., nan,  3.,  5.],\n",
    "       [ 2.,  4., nan,  6., 10.],\n",
    "       [nan, nan, nan, nan, nan],\n",
    "       [ 3.,  6., nan,  9., 15.],\n",
    "       [ 5., 10., nan, 15., 25.]], dtype=float16), array([[  1.,   4.,   5.,  nan,  10.],\n",
    "       [  4.,  16.,  20.,  nan,  40.],\n",
    "       [  5.,  20.,  25.,  nan,  50.],\n",
    "       [ nan,  nan,  nan,  nan,  nan],\n",
    "       [ 10.,  40.,  50.,  nan, 100.]], dtype=float16), array([[  1.,   7.,  30.,   9.,  nan],\n",
    "       [  7.,  49., 210.,  63.,  nan],\n",
    "       [ 30., 210., 900., 270.,  nan],\n",
    "       [  9.,  63., 270.,  81.,  nan],\n",
    "       [ nan,  nan,  nan,  nan,  nan]], dtype=float16)]\n",
    "\n",
    "sample outer product non-nan\n",
    "-> [array([[1, 1, 0, 1, 1],\n",
    "       [1, 1, 0, 1, 1],\n",
    "       [0, 0, 0, 0, 0],\n",
    "       [1, 1, 0, 1, 1],\n",
    "       [1, 1, 0, 1, 1]]), array([[1, 1, 1, 0, 1],\n",
    "       [1, 1, 1, 0, 1],\n",
    "       [1, 1, 1, 0, 1],\n",
    "       [0, 0, 0, 0, 0],\n",
    "       [1, 1, 1, 0, 1]]), array([[1, 1, 1, 1, 0],\n",
    "       [1, 1, 1, 1, 0],\n",
    "       [1, 1, 1, 1, 0],\n",
    "       [1, 1, 1, 1, 0],\n",
    "       [0, 0, 0, 0, 0]])]\n",
    "```"
   ]
  },
  {
   "cell_type": "code",
   "execution_count": 15,
   "metadata": {
    "colab": {},
    "colab_type": "code",
    "id": "R6ItM_kRZ9pd",
    "scrolled": false
   },
   "outputs": [
    {
     "name": "stdout",
     "output_type": "stream",
     "text": [
      "sample outer product\n",
      "-> [array([[ 1.,  2., nan,  3.,  5.],\n",
      "       [ 2.,  4., nan,  6., 10.],\n",
      "       [nan, nan, nan, nan, nan],\n",
      "       [ 3.,  6., nan,  9., 15.],\n",
      "       [ 5., 10., nan, 15., 25.]], dtype=float16), array([[  1.,   4.,   5.,  nan,  10.],\n",
      "       [  4.,  16.,  20.,  nan,  40.],\n",
      "       [  5.,  20.,  25.,  nan,  50.],\n",
      "       [ nan,  nan,  nan,  nan,  nan],\n",
      "       [ 10.,  40.,  50.,  nan, 100.]], dtype=float16), array([[  1.,   7.,  30.,   9.,  nan],\n",
      "       [  7.,  49., 210.,  63.,  nan],\n",
      "       [ 30., 210., 900., 270.,  nan],\n",
      "       [  9.,  63., 270.,  81.,  nan],\n",
      "       [ nan,  nan,  nan,  nan,  nan]], dtype=float16)]\n",
      "\n",
      "sample outer product non-nan\n",
      "-> [array([[1, 1, 0, 1, 1],\n",
      "       [1, 1, 0, 1, 1],\n",
      "       [0, 0, 0, 0, 0],\n",
      "       [1, 1, 0, 1, 1],\n",
      "       [1, 1, 0, 1, 1]]), array([[1, 1, 1, 0, 1],\n",
      "       [1, 1, 1, 0, 1],\n",
      "       [1, 1, 1, 0, 1],\n",
      "       [0, 0, 0, 0, 0],\n",
      "       [1, 1, 1, 0, 1]]), array([[1, 1, 1, 1, 0],\n",
      "       [1, 1, 1, 1, 0],\n",
      "       [1, 1, 1, 1, 0],\n",
      "       [1, 1, 1, 1, 0],\n",
      "       [0, 0, 0, 0, 0]])]\n"
     ]
    }
   ],
   "source": [
    "# task 1-2 답안 작성\n",
    "task1_2 = task1_1.map(lambda x : (np.outer(x,x))) # 위에서 생성한 task1_1 RDD 행렬의 외적을 구한다.\n",
    "outer_nonnan = task1_2.map(lambda x : (1-np.isnan(x)))\n",
    "# 그런 후 np.isnan에 1을 빼서 값이 있는 인덱스는 1로 그렇지 않고 nan인 값은 0으로 표시한다.\n",
    "\n",
    "# output\n",
    "print(\"sample outer product\\n->\", task1_2.collect())\n",
    "print(\"\\nsample outer product non-nan\\n->\", outer_nonnan.collect())"
   ]
  },
  {
   "cell_type": "markdown",
   "metadata": {
    "colab_type": "text",
    "id": "A5AnS2bv3LCd"
   },
   "source": [
    "**task**\n",
    "\n",
    "* 3 : \n",
    "\n",
    "Now suppose that we do the take the average of the outer product of the augmented vector and convince yourself that:\n",
    "$$\n",
    "\\hat{E}({\\mathbf{x}'}^T{\\mathbf{x}'}) = \\frac{1}{n} \\sum_{i=1}^n {\\mathbf{x}'}_i^T{\\mathbf{x}'}_i\n",
    "= \\left[\\begin{array}{c|ccc}\n",
    "    1 &  &\\hat{E}({\\mathbf{x}'}) &\\\\\n",
    "    \\hline \\\\\n",
    "    \\hat{E}({\\mathbf{x}'}^T) & &\\hat{E}({\\mathbf{x}'}^T{\\mathbf{x}'}) \\\\ \\\\\n",
    "    \\end{array}\n",
    "    \\right]\n",
    "$$\n",
    "\n",
    "So indeed, we have produced the outer product average together with (two copies of) the average $\\hat{E}({\\mathbf{x}'}^T)$\n",
    "\n",
    "- - -\n",
    "\n",
    "**★★★★★여기서 n은 non-nan의 sum!!★★★★★**\n",
    "\n",
    "```\n",
    "# task 1-3 \n",
    "outer product sum(n이 나누어지지 않은)\n",
    "-> [[  3.  13.  35.  12.  15.]\n",
    " [ 13.  69. 230.  69.  50.]\n",
    " [ 35. 230. 925. 270.  50.]\n",
    " [ 12.  69. 270.  90.  15.]\n",
    " [ 15.  50.  50.  15. 125.]]\n",
    "\n",
    "outer product non-nan sum\n",
    "-> [[3 3 2 2 2]\n",
    " [3 3 2 2 2]\n",
    " [2 2 2 1 1]\n",
    " [2 2 1 2 1]\n",
    " [2 2 1 1 2]]\n",
    "\n",
    "outer product sum(n이 나누어진)\n",
    "-> [ 23.  115.   34.5  25. ]\n",
    "\n",
    "sample mean vector\n",
    "-> [ 4.332 17.5    6.     7.5  ]\n",
    "```"
   ]
  },
  {
   "cell_type": "code",
   "execution_count": 16,
   "metadata": {
    "colab": {},
    "colab_type": "code",
    "id": "9VPH5J_93LCf"
   },
   "outputs": [
    {
     "name": "stdout",
     "output_type": "stream",
     "text": [
      "outer product sum(n이 나누어지지 않은)\n",
      "-> [[  3.  13.  35.  12.  15.]\n",
      " [ 13.  69. 230.  69.  50.]\n",
      " [ 35. 230. 925. 270.  50.]\n",
      " [ 12.  69. 270.  90.  15.]\n",
      " [ 15.  50.  50.  15. 125.]]\n",
      "\n",
      "outer product non-nan sum\n",
      "-> [[3 3 2 2 2]\n",
      " [3 3 2 2 2]\n",
      " [2 2 2 1 1]\n",
      " [2 2 1 2 1]\n",
      " [2 2 1 1 2]]\n",
      "\n",
      "outer product sum(n이 나누어진)\n",
      "-> [ 23.  115.   34.5  25. ]\n",
      "\n",
      "sample mean vector\n",
      "-> [ 4.332 17.5    6.     7.5  ]\n"
     ]
    }
   ],
   "source": [
    "# task 1-3 답안 작성\n",
    "task1_3_outer_sum = task1_2.map(lambda x : np.nan_to_num(x)).reduce(lambda x,y : x+y)\n",
    "#np.nan_to_num() 함수를 사용해 task1_2에서 구한 행렬들 중 nan인 값을 map을 사용하여 0으로 바꾼 후 reduce를 통하여 외적한 행렬을 합한다.\n",
    "\n",
    "task1_3_nonnan_sum = outer_nonnan.reduce(lambda x,y : x+y)\n",
    "# 위에서 구한 outer_nonnan의 행렬을 reduce를 사용해 합한다.\n",
    "\n",
    "task_outer_sum = task1_2.map(lambda x : np.nan_to_num(x)[1:,1:]).reduce(lambda x,y: x+y)\n",
    "task_nonnan_sum = task1_2.map(lambda x : (1-np.isnan(x)[1:,1:])).reduce(lambda x,y : x+y)\n",
    "sample_outer_product = (task_outer_sum / np.float16(task_nonnan_sum))[0]\n",
    "# task1_3_outer_sum의 2행 2열 부터의 값을 task1_3_nonnan_sum의 2행2열 부터의 값까지 나눈다 1행 1열은 mean을 구하기 위해 임의로 1을 넣어준\n",
    "# 것이기 때문에 sample_outer_product를 구할 때에는 불필요 하므로 제거한다.\n",
    "\n",
    "task_outer_sum_mean = task1_2.map(lambda x : np.nan_to_num(x)[0,1:]).reduce(lambda x,y: x+y)\n",
    "task_nonnan_sum_mean = task1_2.map(lambda x : (1-np.isnan(x)[0,1:])).reduce(lambda x,y : x+y)\n",
    "sample_mean_vector = task_outer_sum_mean / np.float16(task_nonnan_sum_mean)\n",
    "# 평균을 구하기 위해 task1_3_outer_sum의 1행 2열의 값 부터 열의 끝까지의 합을 task1_3_nonnan_sum의 1행 2열부터 끝까지의 열의 값으로 나눠준다.\n",
    "# output\n",
    "print(\"outer product sum(n이 나누어지지 않은)\\n->\", task1_3_outer_sum)\n",
    "print(\"\\nouter product non-nan sum\\n->\", task1_3_nonnan_sum)\n",
    "print(\"\\nouter product sum(n이 나누어진)\\n->\", sample_outer_product)\n",
    "print(\"\\nsample mean vector\\n->\", sample_mean_vector)"
   ]
  },
  {
   "cell_type": "markdown",
   "metadata": {
    "colab_type": "text",
    "id": "Yu0ilAmd3LCi"
   },
   "source": [
    "**task**\n",
    "\n",
    "* 4 :\n",
    "\n",
    "Computing covariance matrix\n",
    "\n",
    "\\begin{align*}\n",
    "\\text{Cov}(\\mathbf{x}) &= \\hat E({\\mathbf{x}'}^T{\\mathbf{x}'}) \\ - \\hat{E}({\\mathbf{x}'})^T\\hat{E}({\\mathbf{x}'})\n",
    "\\end{align*}\n",
    "\n",
    "- - -\n",
    "\n",
    "\n",
    "```\n",
    "# task 1-4\n",
    "covariance matrix\n",
    "-> [[  4.234  39.2     8.5    -7.5  ]\n",
    " [ 39.2   156.2   165.    -81.25 ]\n",
    " [  8.5   165.      9.    -30.   ]\n",
    " [ -7.5   -81.25  -30.      6.25 ]]\n",
    "```"
   ]
  },
  {
   "cell_type": "code",
   "execution_count": 17,
   "metadata": {
    "colab": {},
    "colab_type": "code",
    "id": "hAw7Ui3X3LCi",
    "outputId": "3c8df03c-58db-4f21-bf00-b6aad9f0456b"
   },
   "outputs": [
    {
     "name": "stdout",
     "output_type": "stream",
     "text": [
      "covariance matrix\n",
      "-> [[   4.234   39.2      8.5     -7.5  ]\n",
      " [ -52.8   -191.2    -70.5   -106.25 ]\n",
      " [  -3.      10.      -1.5    -20.   ]\n",
      " [  -9.5    -16.25   -10.5    -31.25 ]]\n"
     ]
    }
   ],
   "source": [
    "# task 1-4 답안 작성\n",
    "cov = sample_outer_product - np.outer(sample_mean_vector,sample_mean_vector)\n",
    "# nonnan으로 나누어진 sample행렬에서 sample행렬의 평균 백터의 외적을 빼서 covariance marix를 구한다.\n",
    "\n",
    "# output\n",
    "print(\"covariance matrix\\n->\", cov)"
   ]
  },
  {
   "cell_type": "markdown",
   "metadata": {
    "colab_type": "text",
    "id": "1irwfRoE3LCl"
   },
   "source": [
    "### Excercise 2 - \n",
    "####  (60 point)\n",
    "\n",
    "- - -\n",
    "\n",
    "다음 데이터에 대하여 다음 과제를 수행하세요.\n",
    "\n",
    "- regular_float32.zip : KBO에서 활약한 타자들의 역대 정규시즌 성적을 포함하여 타자의 고유 아이디, 타자의 이름, 팀 이름, 기록, 년도 등을 포함한 parquet 파일 입니다.\n",
    "\n",
    "```\n",
    "# regular_float32 예시\n",
    "<regular_float32.show(5)>\n",
    "+---------+------+----+--------------------+----+\n",
    "|batter_id|  name|team|              values|year|\n",
    "+---------+------+----+--------------------+----+\n",
    "|      297|진갑용|삼성|[17 D9 8E 3E 00 0...|2008|\n",
    "|      297|진갑용|삼성|[68 91 6D 3E 00 0...|2009|\n",
    "|      297|진갑용|삼성|[F0 A7 86 3E 00 0...|2010|\n",
    "|      297|진갑용|삼성|[A8 C6 8B 3E 00 0...|2011|\n",
    "|      297|진갑용|삼성|[1B 2F 9D 3E 00 0...|2012|\n",
    "+---------+------+----+--------------------+----+\n",
    "only showing top 5 rows\n",
    "\n",
    "<schema>\n",
    "root\n",
    " |-- batter_id: long (nullable = true)\n",
    " |-- name: string (nullable = true)\n",
    " |-- team: string (nullable = true)\n",
    " |-- values: binary (nullable = true)\n",
    " |-- year: long (nullable = true)\n",
    "\n",
    "<row의 수(sample의 수)> :2454\n",
    "```\n",
    "\n",
    "- - -\n",
    "\n",
    "##### regular_float32의 values에 대한 정보\n",
    "    A. values는 byte array로 각각의 값은 float32로 이루어져 있습니다.\n",
    "    B. values에 포함된 값은 아래와 같습니다(index 순서와 동일).\n",
    "       [0]타율 [1]출전게임수 [2]타수(타석-볼넷-사구-희생번트-희생플라이)\n",
    "       [3]득점 [4]안타(1루타+2루타+3루타+홈런) [5]2루타 [6]3루타\n",
    "       [7]홈런 [8]루타 수 [9]타점 [10]도루 성공 [11]도루 실패 [12]볼넷\n",
    "       [13]사구(몸에 맞는 볼) [14]삼진아웃 [15]병살타 [16]장타율 [17]출루율\n",
    "       [18]에러\n",
    "    C. values의 포함된 값은 nan이 존재할 수 있습니다.\n",
    "    D. values를 ndarray로 변환시에는 dtype=\"float32\"를 사용하세요.\n",
    "    \n",
    "    \n",
    "- - -\n",
    "##### Excercise 2에서 포함되어야 할 사항\n",
    "    A. 모든 작업은 RDD로 수행합니다.\n",
    "    B. Excercise 1에서 진행했던 모든 단계를 함수화 합니다.\n",
    "        (1) 함수의 이름, 기능은 자유롭게 설정합니다(1개 또는 여러개를 사용해도 됩니다)\n",
    "        (2) 단, 작성된 함수를 종합하여 실행하는 함수를 만들어야 합니다(ex. calcCov)\n",
    "    C. check_symmetric :  True, Exercise2 shape :  (19, 19) 가 결과로 출력되는지 확인하세요.\n",
    "    D. covariance matrix를 구한 후, regular_cov.txt 파일로 저장하여 과제란에 같이 제출합니다.\n",
    "\n",
    "- - -\n",
    "```\n",
    "# Exercise 2 output\n",
    "check_symmetric :  True\n",
    "\n",
    "Exercise2 shape :  (19, 19)\n",
    "\n",
    "Exercise2 result\n",
    "-> [[9.68648770e-03 2.31904584e+00 8.71907655e+00 1.45815861e+00\n",
    "  2.81985552e+00 4.96244952e-01 4.60792588e-02 3.05693491e-01\n",
    "  4.32533845e+00 1.44053534e+00 2.43099885e-01 9.82517298e-02\n",
    "  9.88237934e-01 1.42195695e-01 1.39666974e+00 1.98392683e-01\n",
    "  1.39535328e-02 9.58807760e-03 1.26492938e-01],\n",
    "                ...(중간 생략)...\n",
    " [1.26492938e-01 1.19444102e+02 4.45646963e+02 6.70115876e+01\n",
    "  1.28225598e+02 2.35202158e+01 2.19940931e+00 1.39919460e+01\n",
    "  1.98120470e+02 6.50261108e+01 1.26920823e+01 5.25860146e+00\n",
    "  4.43497757e+01 8.11945502e+00 7.72257562e+01 1.05942064e+01\n",
    "  2.23718629e-01 1.35275737e-01 2.10159326e+01]]\n",
    " ```\n",
    "(regular_cov.txt 예시)\n",
    "\n",
    "<p><img alt=\"\" src=\"https://drive.google.com/uc?id=1bIZAMXlyxw_WtZtiYaDBmlCH6MkZUDil\" style=\"height:324px; width:900px\" /></p>"
   ]
  },
  {
   "cell_type": "code",
   "execution_count": 18,
   "metadata": {
    "colab": {},
    "colab_type": "code",
    "id": "WwFT4EJA3LCl"
   },
   "outputs": [
    {
     "name": "stdout",
     "output_type": "stream",
     "text": [
      "mkdir: cannot create directory ‘regular.parquet’: File exists\n",
      "Archive:  regular_float32.zip\n",
      "replace regular.parquet/._SUCCESS.crc? [y]es, [n]o, [A]ll, [N]one, [r]ename: ^C\n"
     ]
    },
    {
     "data": {
      "text/plain": [
       "'\\nf = urllib.request.urlretrieve (\"https://docs.google.com/uc?export=download&id=1fbTRIL2HGRYss0FnrwcM1lgZ0nm0pjVE\",\\n              \"./regular_float16.zip\")\\n'"
      ]
     },
     "execution_count": 18,
     "metadata": {},
     "output_type": "execute_result"
    }
   ],
   "source": [
    "import urllib.request\n",
    "from os.path import exists\n",
    "\n",
    "!mkdir regular.parquet\n",
    "\n",
    "\n",
    "f = urllib.request\\\n",
    ".urlretrieve (\"https://docs.google.com/uc?export=download&id=1GUP0n9aybONtLkGre8GnBMBpMgR777Wy\",\n",
    "              \"./regular_float32.zip\")\n",
    "\n",
    "\n",
    "!unzip regular_float32.zip -d regular.parquet/\n",
    "!rm -rf regular_float32.zip\n",
    "\n",
    "\n",
    "\"\"\"\n",
    "f = urllib.request\\\n",
    ".urlretrieve (\"https://docs.google.com/uc?export=download&id=1fbTRIL2HGRYss0FnrwcM1lgZ0nm0pjVE\",\n",
    "              \"./regular_float16.zip\")\n",
    "\"\"\""
   ]
  },
  {
   "cell_type": "code",
   "execution_count": 19,
   "metadata": {
    "colab": {},
    "colab_type": "code",
    "id": "zoMo4RM03LCr",
    "outputId": "25225e44-742e-4970-d87b-ae24357bf49e"
   },
   "outputs": [
    {
     "name": "stdout",
     "output_type": "stream",
     "text": [
      "+---------+------+----+--------------------+----+\n",
      "|batter_id|  name|team|              values|year|\n",
      "+---------+------+----+--------------------+----+\n",
      "|      297|진갑용|삼성|[17 D9 8E 3E 00 0...|2008|\n",
      "|      297|진갑용|삼성|[68 91 6D 3E 00 0...|2009|\n",
      "|      297|진갑용|삼성|[F0 A7 86 3E 00 0...|2010|\n",
      "|      297|진갑용|삼성|[A8 C6 8B 3E 00 0...|2011|\n",
      "|      297|진갑용|삼성|[1B 2F 9D 3E 00 0...|2012|\n",
      "+---------+------+----+--------------------+----+\n",
      "only showing top 5 rows\n",
      "\n",
      "root\n",
      " |-- batter_id: long (nullable = true)\n",
      " |-- name: string (nullable = true)\n",
      " |-- team: string (nullable = true)\n",
      " |-- values: binary (nullable = true)\n",
      " |-- year: long (nullable = true)\n",
      "\n"
     ]
    },
    {
     "data": {
      "text/plain": [
       "2454"
      ]
     },
     "execution_count": 19,
     "metadata": {},
     "output_type": "execute_result"
    }
   ],
   "source": [
    "# data 읽기\n",
    "data = sqlContext.read.parquet(\"./regular.parquet/\")\n",
    "\n",
    "data.show(5)\n",
    "data.printSchema()\n",
    "data.count()"
   ]
  },
  {
   "cell_type": "code",
   "execution_count": 80,
   "metadata": {
    "colab": {},
    "colab_type": "code",
    "id": "o92DjEyy3LCv"
   },
   "outputs": [],
   "source": [
    "# Exercise 2 답안 작성  \n",
    "\n",
    "def calc_func(sum_list):\n",
    "    a = data.rdd.map(lambda row : np.insert(row, 0, 1))\n",
    "    # 주어진 data를 rdd로 변형 시켜 row로 받아 0번째 인덱스에 1을 추가\n",
    "    b = a.map(lambda x : (np.array([x[4][0],x[4][1],x[4][2],x[4][3],x[4][4],x[4][5],x[4][6],x[4][7],x[4][8],x[4][9],x[4][10],x[4][11],x[4][12],x[4][13],x[4][14],x[4][15],x[4][16],x[4][17],x[4][18]],dtype='float32')))\n",
    "    # 생성한 rdd를 인덱싱하여 value가 있는 4번째 인덱스에 접근하여 그 안에 있는 인덱스의 각각의 요소를 ndarray로 dtype을 'float32'로 변환한다.\n",
    "    outer_sum = b.map(lambda x : np.outer(x,x)).map(lambda x : np.nan_to_num(x)).reduce(lambda x,y : x+y)\n",
    "    # 그 변환된 value들의 외적을 구한 후 nan인 값들을 0으로 변환해 주는 np.nan_to_num() 함수를 사용해 주고 reduce를 사용하여 그 행렬들을 합친다.\n",
    "    nonnan_outer_sum = b.map(lambda x : (1-np.isnan(x))).reduce(lambda x,y : x+y)\n",
    "    # nan이 아닌 값을 합한다.\n",
    "    outer_vector = (outer_sum[1:,1:] / np.float16(nonnan_outer_sum[1:]))\n",
    "    #outer_sum의 2행2열의 값부터 행렬의 끝까지를 nonnan_outer_sum의 2행의 값으로 나눠 nonnan으로 나눠진 outer_vector를 구한다.\n",
    "    mean_vector = outer_sum[0:] / np.float16(nonnan_outer_sum[0:])\n",
    "    #nonnan으로 나누어지지 않은 outer_sum의 행렬 1행부터 끝 행렬까지를 nonnan_outer_sum의 행렬으로 나눠 평균 벡터 mean_vector를 구한다. \n",
    "    return {\"Mean_vector\" : mean_vector, \"Outer_vector\" : outer_vector}\n",
    "    \n",
    "def calcCov(DataFrame):\n",
    "    # 위 함수를 활용하여 DataFrame을 calc_func 입력 변환 사전작업\n",
    "    Result_cacl = calc_func(data) # data를 매개변수로 받은 calc_func함수를 호출하여 Result_cacl에 저장한다\n",
    "    Cov = outer_sum - np.outer(mean_vector,mean_vector)\n",
    "    # n으로 나누어 지지 않은행렬 outer_sum을 평균 벡터(mean_vector)의 외적으로 뺀다.\n",
    "    \n",
    "    return Cov"
   ]
  },
  {
   "cell_type": "code",
   "execution_count": 81,
   "metadata": {
    "colab": {},
    "colab_type": "code",
    "id": "9sMJQiai3LCy"
   },
   "outputs": [
    {
     "name": "stdout",
     "output_type": "stream",
     "text": [
      "check_symmetric :  True\n",
      "\n",
      "Exercise2 shape :  (19, 19)\n",
      "\n",
      "Exercise2 result\n",
      "-> [[-3.5758848e+08 -2.8115619e+08 -2.6172613e+08 -1.2684158e+08\n",
      "   0.0000000e+00  0.0000000e+00 -3.0244221e+08 -1.3487427e+08\n",
      "   0.0000000e+00 -5.7528216e+07 -2.8747539e+08 -1.3607114e+08\n",
      "   0.0000000e+00  0.0000000e+00 -2.2492155e+08 -1.2879888e+08\n",
      "   0.0000000e+00  0.0000000e+00 -2.4099474e+08]\n",
      " [-2.8115619e+08 -2.0409245e+08 -1.9846790e+08 -9.6149936e+07\n",
      "   0.0000000e+00  0.0000000e+00 -2.2824370e+08 -1.0223378e+08\n",
      "   0.0000000e+00 -4.3653016e+07 -2.1783456e+08 -1.0313334e+08\n",
      "   0.0000000e+00  0.0000000e+00 -1.7055355e+08 -9.7519840e+07\n",
      "   0.0000000e+00  0.0000000e+00 -1.8239234e+08]\n",
      " [-2.6172613e+08 -1.9846790e+08 -1.7770552e+08 -8.7655056e+07\n",
      "   0.0000000e+00  0.0000000e+00 -2.0927264e+08 -9.3550576e+07\n",
      "   0.0000000e+00 -3.9107312e+07 -1.9960214e+08 -9.4687528e+07\n",
      "   0.0000000e+00  0.0000000e+00 -1.5633586e+08 -8.9508096e+07\n",
      "   0.0000000e+00  0.0000000e+00 -1.6775102e+08]\n",
      " [-1.2684158e+08 -9.6149936e+07 -8.7655056e+07 -4.2112628e+07\n",
      "   0.0000000e+00  0.0000000e+00 -1.0115341e+08 -4.5022756e+07\n",
      "   0.0000000e+00 -1.9473902e+07 -9.6705752e+07 -4.5633816e+07\n",
      "   0.0000000e+00  0.0000000e+00 -7.5678048e+07 -4.3213796e+07\n",
      "   0.0000000e+00  0.0000000e+00 -8.0798528e+07]\n",
      " [ 0.0000000e+00  0.0000000e+00  0.0000000e+00  0.0000000e+00\n",
      "   0.0000000e+00  0.0000000e+00  0.0000000e+00  0.0000000e+00\n",
      "   0.0000000e+00  0.0000000e+00  0.0000000e+00  0.0000000e+00\n",
      "   0.0000000e+00  0.0000000e+00  0.0000000e+00  0.0000000e+00\n",
      "   0.0000000e+00  0.0000000e+00  0.0000000e+00]\n",
      " [ 0.0000000e+00  0.0000000e+00  0.0000000e+00  0.0000000e+00\n",
      "   0.0000000e+00  0.0000000e+00  0.0000000e+00  0.0000000e+00\n",
      "   0.0000000e+00  0.0000000e+00  0.0000000e+00  0.0000000e+00\n",
      "   0.0000000e+00  0.0000000e+00  0.0000000e+00  0.0000000e+00\n",
      "   0.0000000e+00  0.0000000e+00  0.0000000e+00]\n",
      " [-3.0244221e+08 -2.2824370e+08 -2.0927264e+08 -1.0115341e+08\n",
      "   0.0000000e+00  0.0000000e+00 -2.2391210e+08 -1.0679707e+08\n",
      "   0.0000000e+00 -4.5373856e+07 -2.2743298e+08 -1.0784010e+08\n",
      "   0.0000000e+00  0.0000000e+00 -1.8060107e+08 -1.0265914e+08\n",
      "   0.0000000e+00  0.0000000e+00 -1.9027525e+08]\n",
      " [-1.3487427e+08 -1.0223378e+08 -9.3550576e+07 -4.5022756e+07\n",
      "   0.0000000e+00  0.0000000e+00 -1.0679707e+08 -4.7319832e+07\n",
      "   0.0000000e+00 -2.0686308e+07 -1.0182744e+08 -4.7853776e+07\n",
      "   0.0000000e+00  0.0000000e+00 -8.0216232e+07 -4.5770360e+07\n",
      "   0.0000000e+00  0.0000000e+00 -8.5924888e+07]\n",
      " [ 0.0000000e+00  0.0000000e+00  0.0000000e+00  0.0000000e+00\n",
      "   0.0000000e+00  0.0000000e+00  0.0000000e+00  0.0000000e+00\n",
      "   0.0000000e+00  0.0000000e+00  0.0000000e+00  0.0000000e+00\n",
      "   0.0000000e+00  0.0000000e+00  0.0000000e+00  0.0000000e+00\n",
      "   0.0000000e+00  0.0000000e+00  0.0000000e+00]\n",
      " [-5.7528216e+07 -4.3653016e+07 -3.9107312e+07 -1.9473902e+07\n",
      "   0.0000000e+00  0.0000000e+00 -4.5373856e+07 -2.0686308e+07\n",
      "   0.0000000e+00 -2.6271720e+06 -4.1961828e+07 -2.0856112e+07\n",
      "   0.0000000e+00  0.0000000e+00 -3.4382132e+07 -1.9593094e+07\n",
      "   0.0000000e+00  0.0000000e+00 -3.6195060e+07]\n",
      " [-2.8747539e+08 -2.1783456e+08 -1.9960214e+08 -9.6705752e+07\n",
      "   0.0000000e+00  0.0000000e+00 -2.2743298e+08 -1.0182744e+08\n",
      "   0.0000000e+00 -4.1961828e+07 -2.0504842e+08 -1.0277088e+08\n",
      "   0.0000000e+00  0.0000000e+00 -1.7236448e+08 -9.7804056e+07\n",
      "   0.0000000e+00  0.0000000e+00 -1.8033818e+08]\n",
      " [-1.3607114e+08 -1.0313334e+08 -9.4687528e+07 -4.5633816e+07\n",
      "   0.0000000e+00  0.0000000e+00 -1.0784010e+08 -4.7853776e+07\n",
      "   0.0000000e+00 -2.0856112e+07 -1.0277088e+08 -4.8285952e+07\n",
      "   0.0000000e+00  0.0000000e+00 -8.0961504e+07 -4.6201344e+07\n",
      "   0.0000000e+00  0.0000000e+00 -8.6684624e+07]\n",
      " [ 0.0000000e+00  0.0000000e+00  0.0000000e+00  0.0000000e+00\n",
      "   0.0000000e+00  0.0000000e+00  0.0000000e+00  0.0000000e+00\n",
      "   0.0000000e+00  0.0000000e+00  0.0000000e+00  0.0000000e+00\n",
      "   0.0000000e+00  0.0000000e+00  0.0000000e+00  0.0000000e+00\n",
      "   0.0000000e+00  0.0000000e+00  0.0000000e+00]\n",
      " [ 0.0000000e+00  0.0000000e+00  0.0000000e+00  0.0000000e+00\n",
      "   0.0000000e+00  0.0000000e+00  0.0000000e+00  0.0000000e+00\n",
      "   0.0000000e+00  0.0000000e+00  0.0000000e+00  0.0000000e+00\n",
      "   0.0000000e+00  0.0000000e+00  0.0000000e+00  0.0000000e+00\n",
      "   0.0000000e+00  0.0000000e+00  0.0000000e+00]\n",
      " [-2.2492155e+08 -1.7055355e+08 -1.5633586e+08 -7.5678048e+07\n",
      "   0.0000000e+00  0.0000000e+00 -1.8060107e+08 -8.0216232e+07\n",
      "   0.0000000e+00 -3.4382132e+07 -1.7236448e+08 -8.0961504e+07\n",
      "   0.0000000e+00  0.0000000e+00 -1.2274715e+08 -7.6078408e+07\n",
      "   0.0000000e+00  0.0000000e+00 -1.4652851e+08]\n",
      " [-1.2879888e+08 -9.7519840e+07 -8.9508096e+07 -4.3213796e+07\n",
      "   0.0000000e+00  0.0000000e+00 -1.0265914e+08 -4.5770360e+07\n",
      "   0.0000000e+00 -1.9593094e+07 -9.7804056e+07 -4.6201344e+07\n",
      "   0.0000000e+00  0.0000000e+00 -7.6078408e+07 -4.3383324e+07\n",
      "   0.0000000e+00  0.0000000e+00 -8.1995872e+07]\n",
      " [ 0.0000000e+00  0.0000000e+00  0.0000000e+00  0.0000000e+00\n",
      "   0.0000000e+00  0.0000000e+00  0.0000000e+00  0.0000000e+00\n",
      "   0.0000000e+00  0.0000000e+00  0.0000000e+00  0.0000000e+00\n",
      "   0.0000000e+00  0.0000000e+00  0.0000000e+00  0.0000000e+00\n",
      "   0.0000000e+00  0.0000000e+00  0.0000000e+00]\n",
      " [ 0.0000000e+00  0.0000000e+00  0.0000000e+00  0.0000000e+00\n",
      "   0.0000000e+00  0.0000000e+00  0.0000000e+00  0.0000000e+00\n",
      "   0.0000000e+00  0.0000000e+00  0.0000000e+00  0.0000000e+00\n",
      "   0.0000000e+00  0.0000000e+00  0.0000000e+00  0.0000000e+00\n",
      "   0.0000000e+00  0.0000000e+00  0.0000000e+00]\n",
      " [-2.4099474e+08 -1.8239234e+08 -1.6775102e+08 -8.0798528e+07\n",
      "   0.0000000e+00  0.0000000e+00 -1.9027525e+08 -8.5924888e+07\n",
      "   0.0000000e+00 -3.6195060e+07 -1.8033818e+08 -8.6684624e+07\n",
      "   0.0000000e+00  0.0000000e+00 -1.4652851e+08 -8.1995872e+07\n",
      "   0.0000000e+00  0.0000000e+00 -1.3951102e+08]]\n"
     ]
    }
   ],
   "source": [
    "# Exercise 2 output\n",
    "def check_symmetric(a, rtol=1e-05, atol=1e-08):\n",
    "    return np.allclose(a, a.T, rtol=rtol, atol=atol)\n",
    "\n",
    "Exercise2_Cov = calcCov(data)\n",
    "print(\"check_symmetric : \", check_symmetric(Exercise2_Cov))\n",
    "print(\"\\nExercise2 shape : \", Exercise2_Cov.shape)\n",
    "print(\"\\nExercise2 result\\n->\", Exercise2_Cov)\n",
    "\n",
    "# textFile로 저장 후 주피터 노트북과 같이 제출\n",
    "np.savetxt(\"regular_cov.txt\", Exercise2_Cov, delimiter=\"\\t\")"
   ]
  },
  {
   "cell_type": "markdown",
   "metadata": {
    "colab_type": "text",
    "id": "FzdxheOjZ9qL"
   },
   "source": [
    "### ㅎㅎ~\n",
    "![hi](https://contents.vryjam.com/g1TwHtUsHsPFaeQ.gif)"
   ]
  },
  {
   "cell_type": "code",
   "execution_count": null,
   "metadata": {
    "colab": {},
    "colab_type": "code",
    "id": "UBgIL-OM3xb6"
   },
   "outputs": [],
   "source": []
  }
 ],
 "metadata": {
  "colab": {
   "collapsed_sections": [],
   "name": "HW9_upload_V3.ipynb",
   "provenance": []
  },
  "kernelspec": {
   "display_name": "Python 3",
   "language": "python",
   "name": "python3"
  },
  "language_info": {
   "codemirror_mode": {
    "name": "ipython",
    "version": 3
   },
   "file_extension": ".py",
   "mimetype": "text/x-python",
   "name": "python",
   "nbconvert_exporter": "python",
   "pygments_lexer": "ipython3",
   "version": "3.7.3"
  }
 },
 "nbformat": 4,
 "nbformat_minor": 1
}
