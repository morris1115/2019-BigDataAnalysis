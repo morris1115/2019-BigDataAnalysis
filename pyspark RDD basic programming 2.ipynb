{
 "cells": [
  {
   "cell_type": "markdown",
   "metadata": {
    "colab_type": "text",
    "id": "rDpqaPzLI1w3"
   },
   "source": [
    "# Spark Basics 2\n",
    "\n",
    "---\n",
    "\n",
    "이번 notebook에서는 앞으로 학습할 Spark의 활용에 또 다시 한번 예습과 실습을 진행하겠습니다.\n",
    "지난주 했던 RDD와 유사하지만, 각각의 요소가 key와 value로 구성된 RDD를 학습하도록 하겠습니다. Key/Value RDD는 동일한 key를 사용하여 데이터를 집계 및 그룹화하고, 서로 다른 두 RDD를 그룹화 하는 등 새로운 작업을 구성할 수 있습니다. **이와 같은 RDD를 Key/Value RDD or pair RDD라고 부릅니다.!!**\n",
    "\n",
    "**In python, each element of a pair RDD is a pair tuple.**\n",
    "\n",
    "* Key / Value RDD in python\n",
    "\n",
    "* function"
   ]
  },
  {
   "cell_type": "markdown",
   "metadata": {
    "colab_type": "text",
    "id": "hNat3XZlI1w5"
   },
   "source": [
    "### pyspark import & SparkContext 생성(지난주에 했었다)"
   ]
  },
  {
   "cell_type": "code",
   "execution_count": 1,
   "metadata": {
    "colab": {},
    "colab_type": "code",
    "id": "PN-TFJ7FI1w7"
   },
   "outputs": [
    {
     "data": {
      "text/html": [
       "\n",
       "        <div>\n",
       "            <p><b>SparkContext</b></p>\n",
       "\n",
       "            <p><a href=\"http://a9e7d86e1a0b:4042\">Spark UI</a></p>\n",
       "\n",
       "            <dl>\n",
       "              <dt>Version</dt>\n",
       "                <dd><code>v2.4.4</code></dd>\n",
       "              <dt>Master</dt>\n",
       "                <dd><code>local[*]</code></dd>\n",
       "              <dt>AppName</dt>\n",
       "                <dd><code>pyspark-shell</code></dd>\n",
       "            </dl>\n",
       "        </div>\n",
       "        "
      ],
      "text/plain": [
       "<SparkContext master=local[*] appName=pyspark-shell>"
      ]
     },
     "execution_count": 1,
     "metadata": {},
     "output_type": "execute_result"
    }
   ],
   "source": [
    "import findspark\n",
    "findspark.init()\n",
    "from pyspark import SparkContext\n",
    "sc = SparkContext(master=\"local[*]\")\n",
    "sc\n",
    "#sc.stop()"
   ]
  },
  {
   "cell_type": "markdown",
   "metadata": {
    "colab_type": "text",
    "id": "WS9_YL_0asSm"
   },
   "source": [
    "### Spark UI (Spark Context 생성시, 약간의 설정 후 192.168.99.100:4040으로 접속가능) \n",
    "\n",
    "![spark_ui](https://docs.google.com/uc?export=download&id=1H77zTnNWYtKkRIXDmGYUlE4YgPm4Wxvr)\n",
    "![excutors](https://docs.google.com/uc?export=download&id=1jjNhSKwyUjLpa1_nMfkk79BlINhukySF)\n",
    "\n",
    "Host OS와 Docker Container와 port 연동을 해야합니다.\n",
    "\n",
    "- - -\n",
    "\n",
    "**(Kitematic을 이용하는 경우)**\n",
    "\n",
    "Kitematic -> 생성한 container stop -> Setting -> HostName/Port\n",
    "\n",
    "Configure Ports을 다음과 같이 설정 후 save\n",
    "![kit](https://docs.google.com/uc?export=download&id=1gFXz5el_8nNxiIGNZV4KA4rrBZm0uaUo)\n",
    "\n",
    "- - -\n",
    "\n",
    "**(CMD or Docker QuickStart Terminal를 이용하는 경우)**\n",
    "\n",
    "``docker stop running_container``\n",
    "\n",
    "``docker commit running_container new_container``\n",
    "\n",
    "``docker run -p 4040:4040 new_container``\n"
   ]
  },
  {
   "cell_type": "markdown",
   "metadata": {
    "colab_type": "text",
    "id": "W1hLz3Z0I1xC"
   },
   "source": [
    "## Pair RDD 생성\n",
    "\n",
    "이전에 실습했던 parallelize를 이용해서 Pair RDD를 생성합니다. 다만, Pair RDD를 생성하기 위해서는 tuple을 사용한다는 것을 잊지말아 주세요....\n",
    "\n",
    "* python tuple\n",
    "\n",
    "    1. list와 거의 비슷하지만 **변경 불가능(Immutable)한 특성**을 가지고 있음\n",
    "\n",
    "    2. **슬라이스와 인덱싱등은 지원을 하지만 append, pop, remove등은 지원하지 않음. 한마디로 말해 값을 가져올수 있지만 추가, 수정, 삭제가 불가능**"
   ]
  },
  {
   "cell_type": "code",
   "execution_count": 4,
   "metadata": {
    "colab": {},
    "colab_type": "code",
    "id": "vAJCDwbdI1xC",
    "outputId": "b4c21954-3da2-4108-eaa4-980202a89422"
   },
   "outputs": [
    {
     "name": "stdout",
     "output_type": "stream",
     "text": [
      "[(1, 2), (3, 4)]\n"
     ]
    }
   ],
   "source": [
    "pair_rdd = sc.parallelize([(1, 2), (3, 4)])\n",
    "print(pair_rdd.collect())"
   ]
  },
  {
   "cell_type": "markdown",
   "metadata": {
    "colab_type": "text",
    "id": "lxW5x_-5I1xG"
   },
   "source": [
    "**물론 위와 같이 생성할 수도 있지만.. map()을 사용하여 RDD에서 pair RDD를 생성할 수도 있습니다.!!!**\n",
    "\n",
    "```transformation```과 ```action```이 기억이 안 난다면... **HW1 자료**를 통해 다시 학습합시다!"
   ]
  },
  {
   "cell_type": "code",
   "execution_count": 5,
   "metadata": {
    "colab": {},
    "colab_type": "code",
    "id": "pGNSsM5LI1xH",
    "outputId": "e7be6ff1-69e3-429b-e4ad-0437323521f4"
   },
   "outputs": [
    {
     "name": "stdout",
     "output_type": "stream",
     "text": [
      "[(1, 1), (2, 4), (3, 27), (4, 256), (5, 3125), (6, 46656)]\n",
      "[(1, 1), (2, 4), (3, 27), (4, 256)]\n"
     ]
    }
   ],
   "source": [
    "regular_rdd = sc.parallelize(range(1,7)) # 기존의 RDD 생성\n",
    "pair_rdd = regular_rdd.map(lambda x : (x, x ** x)) # map을 이용한 transformation\n",
    "\n",
    "print(pair_rdd.collect())\n",
    "print(pair_rdd.take(4))"
   ]
  },
  {
   "cell_type": "markdown",
   "metadata": {
    "colab_type": "text",
    "id": "tPNDryuPI1xJ"
   },
   "source": [
    "**위의 셀에서 take를 이용하였습니다.**\n",
    "\n",
    "``pair_rdd.take(4)``  RDD에서 4개의 값을 가져옴(action의 일종)!\n",
    "\n",
    "**collect와 유사하지만, 사용자가 원하는 개수만큼의 데이터를 가져올 수 있죠.**\n",
    "\n"
   ]
  },
  {
   "cell_type": "markdown",
   "metadata": {
    "colab_type": "text",
    "id": "KWov8qiPI1xK"
   },
   "source": [
    "## Exercise 1\n",
    "\n",
    "---\n",
    "\n",
    "KDD Cup 1999에 제공되는 축소 된 데이터셋(약 10%)를 사용합니다. 이 데이터셋에는 약 50만 개의 **network interactions**을 포함합니다.\n",
    "\n",
    "``[[0,tcp,http,SF,181,5450,0,0,0,0,0,1,0,0,0,0,0,0,0,0,0,0,8,8,0.00,0.00,0.00,0.00,1.00,0.00,0.00,9,9,1.00,0.00,0.11,0.00,0.00,0.00,0.00,0.00,normal.], [...] ,[...]]``\n",
    "\n",
    "각 요소는 ``list`` 및 ``,``로 구분되어 있습니다. 또한 각 요소의 마지막의 값(normal.)이 ``network interactions type(Key)``, 그 외의 값은 ``Value``입니다\n",
    "\n",
    "* input : regular_RDD\n",
    "\n",
    "* Map each comma separated row of this dataset into a list and create a key/value pair RDD with key as x(Network interaction type) and value as x where x is a list. Print the first row of your newly created pair RDD.\n",
    "\n",
    "\n",
    "Expected output :\n",
    "\n",
    "\n",
    "\n",
    "```\n",
    "[('normal.', ['0,tcp,http,SF,181,5450,0,0,0,0,0,1,0,0,0,0,0,0,0,0,0,0,8,8,0.00,0.00,0.00,0.00,1.00,0.00,0.00,9,9,1.00,0.00,0.11,0.00,0.00,0.00,0.00,0.00,normal.']),\n",
    " ('normal.',  ['0,tcp,http,SF,239,486,0,0,0,0,0,1,0,0,0,0,0,0,0,0,0,0,8,8,0.00,0.00,0.00,0.00,1.00,0.00,0.00,19,19,1.00,0.00,0.05,0.00,0.00,0.00,0.00,0.00,normal.'])]\n",
    "```\n",
    " \n",
    "**위와 같은 ``Expected output``이 나오기 위해 ``kdd_func``를 작성해보세요.**\n",
    "\n",
    "\n",
    "* KDD cup 1999 데이터 예시(총 ``494,021`` row 및 ``,``로 구분된 다수의 colum(``last column이 network interactions type``)\n",
    "\n",
    "![image](https://docs.google.com/uc?export=download&id=1r8QwJptLBWyR-01mpRs7vGLemgb2zGz_)"
   ]
  },
  {
   "cell_type": "code",
   "execution_count": 3,
   "metadata": {
    "colab": {},
    "colab_type": "code",
    "id": "sv8GF-SpI1xL"
   },
   "outputs": [],
   "source": [
    "# KDD Cup 1999를 받기 위한 코드\n",
    "import urllib.request\n",
    "\n",
    "f = urllib.request.urlretrieve (\"https://docs.google.com/uc?export=download&id=1b-cfzMvUaiZQx9gR2KXXmwuOzd9OHs6-\", \"kddcup.data_10_percent_corrected\")\n",
    "data_file = \"./kddcup.data_10_percent_corrected\"\n",
    "\n",
    "raw_data = sc.textFile(data_file) # 이와 같이 데이터를 한 번에 RDD로 생성할 수 있다."
   ]
  },
  {
   "cell_type": "code",
   "execution_count": 4,
   "metadata": {
    "colab": {},
    "colab_type": "code",
    "id": "MVwwuezXI1xN",
    "scrolled": false
   },
   "outputs": [
    {
     "data": {
      "text/plain": [
       "[('normal.',\n",
       "  ['0,tcp,http,SF,181,5450,0,0,0,0,0,1,0,0,0,0,0,0,0,0,0,0,8,8,0.00,0.00,0.00,0.00,1.00,0.00,0.00,9,9,1.00,0.00,0.11,0.00,0.00,0.00,0.00,0.00,normal.']),\n",
       " ('normal.',\n",
       "  ['0,tcp,http,SF,239,486,0,0,0,0,0,1,0,0,0,0,0,0,0,0,0,0,8,8,0.00,0.00,0.00,0.00,1.00,0.00,0.00,19,19,1.00,0.00,0.05,0.00,0.00,0.00,0.00,0.00,normal.']),\n",
       " ('normal.',\n",
       "  ['0,tcp,http,SF,235,1337,0,0,0,0,0,1,0,0,0,0,0,0,0,0,0,0,8,8,0.00,0.00,0.00,0.00,1.00,0.00,0.00,29,29,1.00,0.00,0.03,0.00,0.00,0.00,0.00,0.00,normal.'])]"
      ]
     },
     "execution_count": 4,
     "metadata": {},
     "output_type": "execute_result"
    }
   ],
   "source": [
    "def kdd_func(regular_RDD):\n",
    "    \n",
    "    net_type = regular_RDD.split(\",\")[-1] # regular_RDD를 \",\" 로 분할\n",
    "    return (net_type, [regular_RDD]) # 리스트 [] 안에 regular_RDD 출력\n",
    "    # 여기에 코드를 작성하세요\n",
    "\n",
    "raw_data.map(kdd_func).take(3) # take(n) 을 통해 n만큼의 개수로 출력"
   ]
  },
  {
   "cell_type": "markdown",
   "metadata": {
    "colab_type": "text",
    "id": "wmg5UNPkI1xP"
   },
   "source": [
    "## Key-Value Transformations\n",
    "\n",
    "(1) **reduceByKey(func) : 같은 Key를 가진 Value에 Reduce를 적용**\n",
    "\n",
    "* reduce의 기능과 유사하지만, 데이터셋에 수많은 Key가 있을 수 있으므로 ``Action``이 아닌 ``Transformation``으로 적용됩니다. "
   ]
  },
  {
   "cell_type": "code",
   "execution_count": 0,
   "metadata": {
    "colab": {},
    "colab_type": "code",
    "id": "T8Ca560EI1xQ",
    "outputId": "ee319015-05df-41e9-f0eb-a151e0919500"
   },
   "outputs": [
    {
     "name": "stdout",
     "output_type": "stream",
     "text": [
      "Original RDD :  [(1, 2), (2, 4), (2, 6)]\n",
      "After transformation :  [(1, 2), (2, 10)]\n"
     ]
    }
   ],
   "source": [
    "RDD_test = sc.parallelize([(1, 2), (2, 4), (2, 6)])\n",
    "\n",
    "print(\"Original RDD : \", RDD_test.collect())\n",
    "print(\"After transformation : \", RDD_test.reduceByKey(lambda a, b: a + b).collect()) # Action이 아닌 Transformation!!!!!!"
   ]
  },
  {
   "cell_type": "markdown",
   "metadata": {
    "colab_type": "text",
    "id": "ho86XhAbI1xT"
   },
   "source": [
    "(2) **sorByKey(): Key를 이용하여 오름차순(ascending order) 정렬**"
   ]
  },
  {
   "cell_type": "code",
   "execution_count": 0,
   "metadata": {
    "colab": {},
    "colab_type": "code",
    "id": "sJnxVX9QI1xU",
    "outputId": "67784058-868c-4793-d1cd-cecb0616418b"
   },
   "outputs": [
    {
     "name": "stdout",
     "output_type": "stream",
     "text": [
      "Original RDD : [(2, 261234125), (1, 444), (3, 6323)]\n",
      "After transformation :  [(1, 444), (2, 261234125), (3, 6323)]\n"
     ]
    }
   ],
   "source": [
    "RDD_test= sc.parallelize([(2,261234125), (1,444), (3,6323)])\n",
    "print(\"Original RDD :\", RDD_test.collect())\n",
    "print(\"After transformation : \", RDD_test.sortByKey().collect())"
   ]
  },
  {
   "cell_type": "markdown",
   "metadata": {
    "colab_type": "text",
    "id": "M-8y_VCdI1xY"
   },
   "source": [
    "(3) **mapValues(func) : Key 값의 변경없이 Value에 func를 적용**"
   ]
  },
  {
   "cell_type": "code",
   "execution_count": 15,
   "metadata": {
    "colab": {},
    "colab_type": "code",
    "id": "tOKUVnLyI1xZ",
    "outputId": "b6722a6d-4005-44ed-fd5a-f9a8e4bd70d6"
   },
   "outputs": [
    {
     "name": "stdout",
     "output_type": "stream",
     "text": [
      "Original RDD : [(1, 2), (2, 4), (2, 6)]\n",
      "After transformation :  [(1, 512), (2, 262144), (2, 10077696)]\n"
     ]
    }
   ],
   "source": [
    "RDD_test = sc.parallelize([(1,2), (2,4), (2,6)])\n",
    "print(\"Original RDD :\", RDD_test.collect())\n",
    "print(\"After transformation : \", RDD_test.mapValues(lambda x: x**9).collect())"
   ]
  },
  {
   "cell_type": "markdown",
   "metadata": {
    "colab_type": "text",
    "id": "_55gJRrsI1xc"
   },
   "source": [
    "(4) **groupByKey() : Returns a new RDD of `(key,<iterator>)` pairs where the iterator iterates over the values associated with the key.**"
   ]
  },
  {
   "cell_type": "code",
   "execution_count": 16,
   "metadata": {
    "colab": {},
    "colab_type": "code",
    "id": "S4lMPIPHI1xd",
    "outputId": "82320089-a2e1-474e-8ddb-d8705510224a",
    "scrolled": true
   },
   "outputs": [
    {
     "name": "stdout",
     "output_type": "stream",
     "text": [
      "Original RDD : [(1, 2), (2, 4), (2, 6)]\n",
      "After transformation :  [(1, [2]), (2, [4, 6])]\n"
     ]
    }
   ],
   "source": [
    "rdd = sc.parallelize([(1,2), (2,4), (2,6)])\n",
    "print(\"Original RDD :\", rdd.collect())\n",
    "print(\"After transformation : \", rdd.groupByKey().mapValues(lambda x: [a for a in x]).collect())"
   ]
  },
  {
   "cell_type": "markdown",
   "metadata": {
    "colab_type": "text",
    "id": "TMxXOSd_LFMv"
   },
   "source": [
    "(5) **flatMapValue(func)**:\n",
    "\n",
    "``func``는 input으로 ``하나의 값``을 받고, return으로 어떠한 값(사용자가 생성하고자 하는)으로 이루어진 ``iterator``를 반환합니다. ``flatMapValue``는 Key/value RDD에 사용되는 method로, 각 요소에 ``func``를 적용하고, ``iterator``를 통하여 value를 생성합니다. 그런 다음 각 value를 원래의 Key와 결합하여 Key/Value 요소를 생성합니다."
   ]
  },
  {
   "cell_type": "code",
   "execution_count": 0,
   "metadata": {
    "colab": {},
    "colab_type": "code",
    "id": "Z0RJyarYLFMx",
    "outputId": "da37786a-a40b-4e31-f4fb-16fe7096a84c"
   },
   "outputs": [
    {
     "name": "stdout",
     "output_type": "stream",
     "text": [
      "Original RDD : [(1, 2), (2, 4), (2, 6)]\n",
      "After transformation :  [(1, 2), (1, 3), (1, 4), (1, 5), (2, 4), (2, 5), (2, 6), (2, 7), (2, 6), (2, 7), (2, 8), (2, 9)]\n"
     ]
    }
   ],
   "source": [
    "RDD = sc.parallelize([(1,2), (2,4), (2,6)])\n",
    "print(\"Original RDD :\", RDD.collect())\n",
    "# the lambda function generates for each number i, an iterator that produces i,i+1\n",
    "print(\"After transformation : \", RDD.flatMapValues(lambda x: range(x,x+4)).collect())"
   ]
  },
  {
   "cell_type": "markdown",
   "metadata": {
    "colab_type": "text",
    "id": "k8sb0hYDI1xf"
   },
   "source": [
    "---\n",
    "## Exercise 2\n",
    "\n",
    "\n",
    "Continue with the RDD created in last exercise. Print the top 5 network interaction types(with their total durations) which have the largest total durations. Duration is the first column of x, i.e. x[0].\n",
    "\n",
    "Expected output: \n",
    "\n",
    "`\n",
    "[('normal.', 21075991), ('portsweep.', 1991911), ('warezclient.', 627563), ('buffer_overflow.', 2751), ('multihop.', 1288)]\n",
    "`"
   ]
  },
  {
   "cell_type": "code",
   "execution_count": 6,
   "metadata": {
    "colab": {},
    "colab_type": "code",
    "id": "yLbedFosI1xg",
    "scrolled": true
   },
   "outputs": [
    {
     "ename": "NameError",
     "evalue": "name 'csv' is not defined",
     "output_type": "error",
     "traceback": [
      "\u001b[0;31m\u001b[0m",
      "\u001b[0;31mNameError\u001b[0mTraceback (most recent call last)",
      "\u001b[0;32m<ipython-input-6-033198e0c9c3>\u001b[0m in \u001b[0;36m<module>\u001b[0;34m\u001b[0m\n\u001b[1;32m      1\u001b[0m \u001b[0;31m# 여기에 작성하세요\u001b[0m\u001b[0;34m\u001b[0m\u001b[0;34m\u001b[0m\u001b[0;34m\u001b[0m\u001b[0m\n\u001b[0;32m----> 2\u001b[0;31m \u001b[0mkv_duration\u001b[0m \u001b[0;34m=\u001b[0m \u001b[0mcsv\u001b[0m\u001b[0;34m.\u001b[0m\u001b[0mmap\u001b[0m\u001b[0;34m(\u001b[0m\u001b[0;32mlambda\u001b[0m \u001b[0mx\u001b[0m\u001b[0;34m:\u001b[0m\u001b[0;34m(\u001b[0m\u001b[0mx\u001b[0m\u001b[0;34m[\u001b[0m\u001b[0;36m41\u001b[0m\u001b[0;34m]\u001b[0m\u001b[0;34m,\u001b[0m\u001b[0mint\u001b[0m\u001b[0;34m(\u001b[0m\u001b[0mx\u001b[0m\u001b[0;34m[\u001b[0m\u001b[0;36m0\u001b[0m\u001b[0;34m]\u001b[0m\u001b[0;34m)\u001b[0m\u001b[0;34m)\u001b[0m\u001b[0;34m)\u001b[0m\u001b[0;34m.\u001b[0m\u001b[0mreduceByKey\u001b[0m\u001b[0;34m(\u001b[0m\u001b[0;32mlambda\u001b[0m \u001b[0mx\u001b[0m\u001b[0;34m,\u001b[0m\u001b[0my\u001b[0m\u001b[0;34m:\u001b[0m \u001b[0mx\u001b[0m\u001b[0;34m+\u001b[0m\u001b[0my\u001b[0m\u001b[0;34m)\u001b[0m\u001b[0;34m\u001b[0m\u001b[0;34m\u001b[0m\u001b[0m\n\u001b[0m\u001b[1;32m      3\u001b[0m \u001b[0;34m\u001b[0m\u001b[0m\n\u001b[1;32m      4\u001b[0m \u001b[0mkv_duration\u001b[0m\u001b[0;34m.\u001b[0m\u001b[0mmap\u001b[0m\u001b[0;34m(\u001b[0m\u001b[0;32mlambda\u001b[0m \u001b[0mx\u001b[0m\u001b[0;34m:\u001b[0m \u001b[0;34m(\u001b[0m\u001b[0mx\u001b[0m\u001b[0;34m[\u001b[0m\u001b[0;36m1\u001b[0m\u001b[0;34m]\u001b[0m\u001b[0;34m,\u001b[0m\u001b[0mx\u001b[0m\u001b[0;34m[\u001b[0m\u001b[0;36m0\u001b[0m\u001b[0;34m]\u001b[0m\u001b[0;34m)\u001b[0m\u001b[0;34m)\u001b[0m\u001b[0;34m.\u001b[0m\u001b[0msortByKey\u001b[0m\u001b[0;34m(\u001b[0m\u001b[0;34m)\u001b[0m\u001b[0;34m.\u001b[0m\u001b[0mcollect\u001b[0m\u001b[0;34m(\u001b[0m\u001b[0;34m)\u001b[0m\u001b[0;34m[\u001b[0m\u001b[0;34m-\u001b[0m\u001b[0;36m1\u001b[0m\u001b[0;34m:\u001b[0m\u001b[0;36m17\u001b[0m\u001b[0;34m:\u001b[0m\u001b[0;34m-\u001b[0m\u001b[0;36m1\u001b[0m\u001b[0;34m]\u001b[0m\u001b[0;34m\u001b[0m\u001b[0;34m\u001b[0m\u001b[0m\n",
      "\u001b[0;31mNameError\u001b[0m: name 'csv' is not defined"
     ]
    }
   ],
   "source": [
    "# 여기에 작성하세요\n",
    "kv_duration = csv.map(lambda x:(x[41],int(x[0]))).reduceByKey(lambda x,y: x+y) \n",
    "# 리스트의 41번째의 값, 리스트의 0번째 값을 출력하는데 reduceByKey를 사용하여 같은 Key를 가진 값에 x+y를 적용한다.\n",
    "\n",
    "kv_duration.map(lambda x: (x[1],x[0])).sortByKey().collect()[-1:17:-1] # 정렬된 값을 역으로 출력\n"
   ]
  },
  {
   "cell_type": "markdown",
   "metadata": {
    "colab_type": "text",
    "id": "O74RwVPlI1xm"
   },
   "source": [
    "- - -\n",
    "\n",
    "## Exercise 3-4 ``Moby Dic``에서 n-grams 찾기\n",
    "\n",
    "\n",
    "Unigrams, bigrams, and in general n-grams are 1,2 or n words that appear consecutively in a single sentence. Consider the sentence:\n",
    "\n",
    "    \"to know you is to love you.\"\n",
    "\n",
    "This sentence contains:\n",
    "\n",
    "    Unigrams(1-grams): to(2 times), know(1 time), you(2 times), is(1 time), love(1 time)\n",
    "    Bigrams(2-grams): \"to know\",\"know you\",\"you is\", \"is to\",\"to love\", \"love you\" (all 1 time)\n",
    "    Trigrams(3-grams): \"to know you\", \"know you is\", \"you is to\", \"is to love\", \"to love you\" (all 1 time)\n",
    "\n",
    "**Exercise 3**: \n",
    "* Count the occurance of each word and of each 1 - 5 grams( **first()를 사용하여 첫 문장만 수행할 것**)\n",
    "* ngram function을 완성할 것\n",
    "\n",
    "**Exercise 4**\n",
    "* List the 5 most common elements for each order (**1 - 5 grams**). For each element, list the sequence of words and the number of occurances.\n",
    "* Exercise 3의 ngram function을 이용하여 상위 5개의 keword를 출력할 것(printOutput 이용)\n",
    "\n",
    "- - -\n",
    "\n",
    "\n",
    "**출력 예시**\n",
    "\n",
    "**Exercise 3 output :**\n",
    "\n",
    "```\n",
    "###gram  1  :  [(('the',), 1), (('project',), 1), (('gutenberg',), 1), (('ebook',), 1), (('of',), 1), (('moby',), 1), (('dick',), 1), (('or',), 1), (('the',), 1), (('whale',), 1), (('by',), 1), (('herman',), 1), (('melville',), 1)] \n",
    "\n",
    "###gram  2  :  [(('the', 'project'), 1), (('project', 'gutenberg'), 1), (('gutenberg', 'ebook'), 1), (('ebook', 'of'), 1), (('of', 'moby'), 1), (('moby', 'dick'), 1), (('dick', 'or'), 1), (('or', 'the'), 1), (('the', 'whale'), 1), (('whale', 'by'), 1), (('by', 'herman'), 1), (('herman', 'melville'), 1)] \n",
    "\n",
    "###gram  3  :  [(('the', 'project', 'gutenberg'), 1), (('project', 'gutenberg', 'ebook'), 1), (('gutenberg', 'ebook', 'of'), 1), (('ebook', 'of', 'moby'), 1), (('of', 'moby', 'dick'), 1), (('moby', 'dick', 'or'), 1), (('dick', 'or', 'the'), 1), (('or', 'the', 'whale'), 1), (('the', 'whale', 'by'), 1), (('whale', 'by', 'herman'), 1), (('by', 'herman', 'melville'), 1)] \n",
    "\n",
    "###gram  4  :  [(('the', 'project', 'gutenberg', 'ebook'), 1), (('project', 'gutenberg', 'ebook', 'of'), 1), (('gutenberg', 'ebook', 'of', 'moby'), 1), (('ebook', 'of', 'moby', 'dick'), 1), (('of', 'moby', 'dick', 'or'), 1), (('moby', 'dick', 'or', 'the'), 1), (('dick', 'or', 'the', 'whale'), 1), (('or', 'the', 'whale', 'by'), 1), (('the', 'whale', 'by', 'herman'), 1), (('whale', 'by', 'herman', 'melville'), 1)] \n",
    "\n",
    "###gram  5  :  [(('the', 'project', 'gutenberg', 'ebook', 'of'), 1), (('project', 'gutenberg', 'ebook', 'of', 'moby'), 1), (('gutenberg', 'ebook', 'of', 'moby', 'dick'), 1), (('ebook', 'of', 'moby', 'dick', 'or'), 1), (('of', 'moby', 'dick', 'or', 'the'), 1), (('moby', 'dick', 'or', 'the', 'whale'), 1), (('dick', 'or', 'the', 'whale', 'by'), 1), (('or', 'the', 'whale', 'by', 'herman'), 1), (('the', 'whale', 'by', 'herman', 'melville'), 1)]\n",
    "```\n",
    "\n",
    "\n",
    "\n",
    "- - -\n",
    "\n",
    "**Exercise 4 output** :\n",
    "\n",
    "\n",
    "![result](https://docs.google.com/uc?export=download&id=1esaB2-j5IPkN1sjt-IvWFkDQEdUP-S4J)\n",
    "\n",
    "---\n",
    "\n",
    "**Moby Dic.txt 예시(22,108 row로 이루어진 text)**\n",
    "\n",
    "![image](https://docs.google.com/uc?export=download&id=1DvXEa10-b4WywIyfboimPzHbpCkJTD2j)"
   ]
  },
  {
   "cell_type": "code",
   "execution_count": 6,
   "metadata": {
    "colab": {},
    "colab_type": "code",
    "id": "aFmtPyRSI1xn"
   },
   "outputs": [],
   "source": [
    "# Moby-dick download\n",
    "\n",
    "import urllib.request\n",
    "import re\n",
    "\n",
    "def removePunctuation(text):\n",
    "    text = re.sub(\"[^0-9a-zA-Z ]\", \" \", text)\n",
    "    return text\n",
    "\n",
    "f = urllib.request.urlretrieve (\"https://docs.google.com/uc?export=download&id=1BYRYdnYg5QHtpC9AViDexoiLdjM0cz4M\", \"Moby-Dick.txt\")\n",
    "data_file = \"./Moby-Dick.txt\"\n",
    "raw_data = sc.textFile(data_file).map(removePunctuation).map(lambda x:x.lower())"
   ]
  },
  {
   "cell_type": "code",
   "execution_count": 7,
   "metadata": {
    "colab": {},
    "colab_type": "code",
    "id": "xBbGQ3oeI1xp",
    "outputId": "a8ea8ab6-084d-4bc2-d3ce-949150deb85c",
    "scrolled": true
   },
   "outputs": [
    {
     "data": {
      "text/plain": [
       "'the project gutenberg ebook of moby dick  or the whale  by herman melville'"
      ]
     },
     "execution_count": 7,
     "metadata": {},
     "output_type": "execute_result"
    }
   ],
   "source": [
    "raw_data.first()"
   ]
  },
  {
   "cell_type": "markdown",
   "metadata": {
    "colab_type": "text",
    "id": "ncofBWIvI1xs"
   },
   "source": [
    "## Exercise 3 - ngram function 작성"
   ]
  },
  {
   "cell_type": "code",
   "execution_count": 6,
   "metadata": {
    "colab": {},
    "colab_type": "code",
    "id": "xPfrG2Y5I1xs",
    "scrolled": false
   },
   "outputs": [
    {
     "name": "stdout",
     "output_type": "stream",
     "text": [
      "###gram  1  :  [(('0,tcp,http,SF,181,5450,0,0,0,0,0,1,0,0,0,0,0,0,0,0,0,0,8,8,0.00,0.00,0.00,0.00,1.00,0.00,0.00,9,9,1.00,0.00,0.11,0.00,0.00,0.00,0.00,0.00,normal.',), 1)] \n",
      "\n",
      "###gram  2  :  [] \n",
      "\n"
     ]
    },
    {
     "ename": "IndexError",
     "evalue": "list index out of range",
     "output_type": "error",
     "traceback": [
      "\u001b[0;31m\u001b[0m",
      "\u001b[0;31mIndexError\u001b[0mTraceback (most recent call last)",
      "\u001b[0;32m<ipython-input-6-58166829de4c>\u001b[0m in \u001b[0;36m<module>\u001b[0;34m\u001b[0m\n\u001b[1;32m     16\u001b[0m \u001b[0;31m# 결과 출력\u001b[0m\u001b[0;34m\u001b[0m\u001b[0;34m\u001b[0m\u001b[0;34m\u001b[0m\u001b[0m\n\u001b[1;32m     17\u001b[0m \u001b[0;32mfor\u001b[0m \u001b[0mgram\u001b[0m \u001b[0;32min\u001b[0m \u001b[0mrange\u001b[0m\u001b[0;34m(\u001b[0m\u001b[0;36m1\u001b[0m\u001b[0;34m,\u001b[0m \u001b[0;36m6\u001b[0m\u001b[0;34m)\u001b[0m\u001b[0;34m:\u001b[0m\u001b[0;34m\u001b[0m\u001b[0;34m\u001b[0m\u001b[0m\n\u001b[0;32m---> 18\u001b[0;31m     \u001b[0mprint\u001b[0m\u001b[0;34m(\u001b[0m\u001b[0;34m\"###gram \"\u001b[0m\u001b[0;34m,\u001b[0m \u001b[0mgram\u001b[0m\u001b[0;34m,\u001b[0m \u001b[0;34m\" : \"\u001b[0m\u001b[0;34m,\u001b[0m \u001b[0mngram\u001b[0m\u001b[0;34m(\u001b[0m\u001b[0mraw_data\u001b[0m\u001b[0;34m.\u001b[0m\u001b[0mmap\u001b[0m\u001b[0;34m(\u001b[0m\u001b[0;32mlambda\u001b[0m \u001b[0mx\u001b[0m\u001b[0;34m:\u001b[0m\u001b[0mx\u001b[0m\u001b[0;34m.\u001b[0m\u001b[0msplit\u001b[0m\u001b[0;34m(\u001b[0m\u001b[0;34m)\u001b[0m\u001b[0;34m)\u001b[0m\u001b[0;34m.\u001b[0m\u001b[0mfirst\u001b[0m\u001b[0;34m(\u001b[0m\u001b[0;34m)\u001b[0m\u001b[0;34m)\u001b[0m\u001b[0;34m,\u001b[0m \u001b[0;34m\"\\n\"\u001b[0m\u001b[0;34m)\u001b[0m \u001b[0;31m# first 첫 번째 값 반환\u001b[0m\u001b[0;34m\u001b[0m\u001b[0;34m\u001b[0m\u001b[0m\n\u001b[0m",
      "\u001b[0;32m<ipython-input-6-58166829de4c>\u001b[0m in \u001b[0;36mngram\u001b[0;34m(sentence)\u001b[0m\n\u001b[1;32m      7\u001b[0m             \u001b[0;32mbreak\u001b[0m \u001b[0;31m# 탈출\u001b[0m\u001b[0;34m\u001b[0m\u001b[0;34m\u001b[0m\u001b[0m\n\u001b[1;32m      8\u001b[0m         \u001b[0;32mfor\u001b[0m \u001b[0mj\u001b[0m \u001b[0;32min\u001b[0m \u001b[0mrange\u001b[0m\u001b[0;34m(\u001b[0m\u001b[0mgram\u001b[0m\u001b[0;34m)\u001b[0m\u001b[0;34m:\u001b[0m \u001b[0;31m# gram의 범위 만큼 반복하는 반복문\u001b[0m\u001b[0;34m\u001b[0m\u001b[0;34m\u001b[0m\u001b[0m\n\u001b[0;32m----> 9\u001b[0;31m             \u001b[0ma\u001b[0m\u001b[0;34m.\u001b[0m\u001b[0mappend\u001b[0m\u001b[0;34m(\u001b[0m\u001b[0msentence\u001b[0m\u001b[0;34m[\u001b[0m\u001b[0mk\u001b[0m\u001b[0;34m]\u001b[0m\u001b[0;34m)\u001b[0m \u001b[0;31m# a 원소의 마지막에 sentence[k] 를 추가\u001b[0m\u001b[0;34m\u001b[0m\u001b[0;34m\u001b[0m\u001b[0m\n\u001b[0m\u001b[1;32m     10\u001b[0m             \u001b[0mk\u001b[0m \u001b[0;34m=\u001b[0m \u001b[0mk\u001b[0m \u001b[0;34m+\u001b[0m \u001b[0;36m1\u001b[0m \u001b[0;31m# k 값 1증가\u001b[0m\u001b[0;34m\u001b[0m\u001b[0;34m\u001b[0m\u001b[0m\n\u001b[1;32m     11\u001b[0m         \u001b[0mtext\u001b[0m \u001b[0;34m=\u001b[0m \u001b[0mtuple\u001b[0m\u001b[0;34m(\u001b[0m\u001b[0ma\u001b[0m\u001b[0;34m)\u001b[0m \u001b[0;31m# 원소 a를 튜플로 생성\u001b[0m\u001b[0;34m\u001b[0m\u001b[0;34m\u001b[0m\u001b[0m\n",
      "\u001b[0;31mIndexError\u001b[0m: list index out of range"
     ]
    }
   ],
   "source": [
    "def ngram(sentence):\n",
    "    b = [] # 빈 리스트 생성\n",
    "    for i in range(len(sentence)): # 반복문으로 sentence의 길이 범위만큼 반복\n",
    "        a = [] # 빈 리스트 생성\n",
    "        k = i # k가 for문을 돌면서 i로 바꿔야 함으로 k = i 설정\n",
    "        if i == (len(sentence) - gram + 1): # i가 sentence의 길이에 gram + 1 만큼의 연산과 같을 때,\n",
    "            break # 탈출\n",
    "        for j in range(gram): # gram의 범위 만큼 반복하는 반복문\n",
    "            a.append(sentence[k]) # a 원소의 마지막에 sentence[k] 를 추가\n",
    "            k = k + 1 # k 값 1증가\n",
    "        text = tuple(a) # 원소 a를 튜플로 생성\n",
    "        b.append((text,1)) # text 튜플 마지막에 1 추가\n",
    "    return b\n",
    "    # 여기에 코드를 입력하세요\n",
    "\n",
    "# 결과 출력\n",
    "for gram in range(1, 6):\n",
    "    print(\"###gram \", gram, \" : \", ngram(raw_data.map(lambda x:x.split()).first()), \"\\n\") # first 첫 번째 값 반환"
   ]
  },
  {
   "cell_type": "markdown",
   "metadata": {
    "colab_type": "text",
    "id": "9Sv7TqCqI1xv"
   },
   "source": [
    "## Exercise 4 - ngram을 이용한 출력 작성"
   ]
  },
  {
   "cell_type": "markdown",
   "metadata": {
    "colab_type": "text",
    "id": "0pfgoEsffJCw"
   },
   "source": [
    "## 4번은 수업시간에 해서 제출한것 입니다."
   ]
  },
  {
   "cell_type": "code",
   "execution_count": 8,
   "metadata": {
    "colab": {},
    "colab_type": "code",
    "id": "ZrQ3NJw9I1xv"
   },
   "outputs": [
    {
     "name": "stdout",
     "output_type": "stream",
     "text": [
      "\n",
      "============ 5 most frequent 1-grams\n",
      "\n",
      "rank\tcount\tngram\n",
      "1\t193081: \t\"0,icmp,ecr_i,SF,1032,0,0,0,0,0,0,0,0,0,0,0,0,0,0,0,0,0,511,511,0.00,0.00,0.00,0.00,1.00,0.00,0.00,255,255,1.00,0.00,1.00,0.00,0.00,0.00,0.00,0.00,smurf.\"\n",
      "2\t33368: \t\"0,icmp,ecr_i,SF,520,0,0,0,0,0,0,0,0,0,0,0,0,0,0,0,0,0,511,511,0.00,0.00,0.00,0.00,1.00,0.00,0.00,255,255,1.00,0.00,1.00,0.00,0.00,0.00,0.00,0.00,smurf.\"\n",
      "3\t26185: \t\"0,icmp,ecr_i,SF,1032,0,0,0,0,0,0,0,0,0,0,0,0,0,0,0,0,0,510,510,0.00,0.00,0.00,0.00,1.00,0.00,0.00,255,255,1.00,0.00,1.00,0.00,0.00,0.00,0.00,0.00,smurf.\"\n",
      "4\t5194: \t\"0,icmp,ecr_i,SF,1032,0,0,0,0,0,0,0,0,0,0,0,0,0,0,0,0,0,509,509,0.00,0.00,0.00,0.00,1.00,0.00,0.00,255,255,1.00,0.00,1.00,0.00,0.00,0.00,0.00,0.00,smurf.\"\n",
      "5\t1292: \t\"0,icmp,ecr_i,SF,1032,0,0,0,0,0,0,0,0,0,0,0,0,0,0,0,0,0,508,508,0.00,0.00,0.00,0.00,1.00,0.00,0.00,255,255,1.00,0.00,1.00,0.00,0.00,0.00,0.00,0.00,smurf.\"\n",
      "\n",
      "============ 5 most frequent 2-grams\n",
      "\n",
      "rank\tcount\tngram\n"
     ]
    },
    {
     "ename": "IndexError",
     "evalue": "list index out of range",
     "output_type": "error",
     "traceback": [
      "\u001b[0;31m\u001b[0m",
      "\u001b[0;31mIndexError\u001b[0mTraceback (most recent call last)",
      "\u001b[0;32m<ipython-input-8-8942638e2593>\u001b[0m in \u001b[0;36m<module>\u001b[0;34m\u001b[0m\n\u001b[1;32m     12\u001b[0m     \u001b[0;31m#reduceByKey를 사용하여 같은 key값을 가진 연산을 하고, map을 사용해 key,value값 위치 변경, sortByKey(False)로 해서 역으로 정렬\u001b[0m\u001b[0;34m\u001b[0m\u001b[0;34m\u001b[0m\u001b[0;34m\u001b[0m\u001b[0m\n\u001b[1;32m     13\u001b[0m \u001b[0;34m\u001b[0m\u001b[0m\n\u001b[0;32m---> 14\u001b[0;31m     \u001b[0mprintOutput\u001b[0m\u001b[0;34m(\u001b[0m\u001b[0mgram\u001b[0m\u001b[0;34m,\u001b[0m\u001b[0mfreq_ngrams\u001b[0m\u001b[0;34m)\u001b[0m\u001b[0;34m\u001b[0m\u001b[0;34m\u001b[0m\u001b[0m\n\u001b[0m\u001b[1;32m     15\u001b[0m \u001b[0;34m\u001b[0m\u001b[0m\n",
      "\u001b[0;32m<ipython-input-8-8942638e2593>\u001b[0m in \u001b[0;36mprintOutput\u001b[0;34m(n, freq_ngramRDD)\u001b[0m\n\u001b[1;32m      4\u001b[0m     \u001b[0mprint\u001b[0m\u001b[0;34m(\u001b[0m\u001b[0;34m'\\nrank\\tcount\\tngram'\u001b[0m\u001b[0;34m)\u001b[0m\u001b[0;34m\u001b[0m\u001b[0;34m\u001b[0m\u001b[0m\n\u001b[1;32m      5\u001b[0m     \u001b[0;32mfor\u001b[0m \u001b[0mi\u001b[0m \u001b[0;32min\u001b[0m \u001b[0mrange\u001b[0m\u001b[0;34m(\u001b[0m\u001b[0;36m5\u001b[0m\u001b[0;34m)\u001b[0m\u001b[0;34m:\u001b[0m\u001b[0;34m\u001b[0m\u001b[0;34m\u001b[0m\u001b[0m\n\u001b[0;32m----> 6\u001b[0;31m         \u001b[0mprint\u001b[0m\u001b[0;34m(\u001b[0m\u001b[0;34m'%d\\t%d: \\t\"%s\"'\u001b[0m\u001b[0;34m%\u001b[0m\u001b[0;34m(\u001b[0m\u001b[0mi\u001b[0m\u001b[0;34m+\u001b[0m\u001b[0;36m1\u001b[0m\u001b[0;34m,\u001b[0m\u001b[0mtop\u001b[0m\u001b[0;34m[\u001b[0m\u001b[0mi\u001b[0m\u001b[0;34m]\u001b[0m\u001b[0;34m[\u001b[0m\u001b[0;36m0\u001b[0m\u001b[0;34m]\u001b[0m\u001b[0;34m,\u001b[0m \u001b[0;34m' '\u001b[0m\u001b[0;34m.\u001b[0m\u001b[0mjoin\u001b[0m\u001b[0;34m(\u001b[0m\u001b[0mtop\u001b[0m\u001b[0;34m[\u001b[0m\u001b[0mi\u001b[0m\u001b[0;34m]\u001b[0m\u001b[0;34m[\u001b[0m\u001b[0;36m1\u001b[0m\u001b[0;34m]\u001b[0m\u001b[0;34m)\u001b[0m\u001b[0;34m)\u001b[0m\u001b[0;34m)\u001b[0m \u001b[0;31m# ' '.join(tuple) ---> tuple to string\u001b[0m\u001b[0;34m\u001b[0m\u001b[0;34m\u001b[0m\u001b[0m\n\u001b[0m\u001b[1;32m      7\u001b[0m \u001b[0;34m\u001b[0m\u001b[0m\n\u001b[1;32m      8\u001b[0m \u001b[0;32mfor\u001b[0m \u001b[0mgram\u001b[0m \u001b[0;32min\u001b[0m \u001b[0mrange\u001b[0m\u001b[0;34m(\u001b[0m\u001b[0;36m1\u001b[0m\u001b[0;34m,\u001b[0m\u001b[0;36m6\u001b[0m\u001b[0;34m)\u001b[0m\u001b[0;34m:\u001b[0m \u001b[0;31m# gram이 1,6까 반복하는\u001b[0m\u001b[0;34m\u001b[0m\u001b[0;34m\u001b[0m\u001b[0m\n",
      "\u001b[0;31mIndexError\u001b[0m: list index out of range"
     ]
    }
   ],
   "source": [
    "def printOutput(n,freq_ngramRDD): \n",
    "    top=freq_ngramRDD.take(5) # 이미 sort 되어있기 때문에 take(5)\n",
    "    print('\\n============ %d most frequent %d-grams'%(5,n))\n",
    "    print('\\nrank\\tcount\\tngram')\n",
    "    for i in range(5):\n",
    "        print('%d\\t%d: \\t\"%s\"'%(i+1,top[i][0], ' '.join(top[i][1]))) # ' '.join(tuple) ---> tuple to string\n",
    "        \n",
    "for gram in range(1,6): # gram이 1,6까 반복하는\n",
    "    ngrams = raw_data.map(lambda x:x.split()).flatMap(ngram) # flatMap을 사용하여 값들을 하나로 펼쳐 각각 count한다.\n",
    "    \n",
    "    freq_ngrams = ngrams.reduceByKey(lambda x,y : x + y).map(lambda x: (x[1], x[0])).sortByKey(False) \n",
    "    #reduceByKey를 사용하여 같은 key값을 가진 연산을 하고, map을 사용해 key,value값 위치 변경, sortByKey(False)로 해서 역으로 정렬\n",
    "    \n",
    "    printOutput(gram,freq_ngrams)\n",
    "        "
   ]
  }
 ],
 "metadata": {
  "colab": {
   "collapsed_sections": [],
   "name": "HW3_upload_V1.ipynb",
   "provenance": []
  },
  "kernelspec": {
   "display_name": "Python 3",
   "language": "python",
   "name": "python3"
  },
  "language_info": {
   "codemirror_mode": {
    "name": "ipython",
    "version": 3
   },
   "file_extension": ".py",
   "mimetype": "text/x-python",
   "name": "python",
   "nbconvert_exporter": "python",
   "pygments_lexer": "ipython3",
   "version": "3.7.3"
  }
 },
 "nbformat": 4,
 "nbformat_minor": 1
}
