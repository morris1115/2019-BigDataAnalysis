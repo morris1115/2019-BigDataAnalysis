{
 "cells": [
  {
   "cell_type": "markdown",
   "metadata": {
    "colab_type": "text",
    "id": "4gPzXA6_FRfT"
   },
   "source": [
    "# Eigenvalue, Eigenvector\n",
    "- - -\n",
    "\n",
    "#### 이론\n",
    "\n",
    "Covariance matrix $\\mathbf{Q}$를 eigen decompostion을 수행하면 다음과 같은 형태로 분리가 됨:\n",
    "\\begin{align}\n",
    " \\mathbf{Q} = \\mathbf{U} \\Lambda \\mathbf{U}^T\n",
    "\\end{align}\n",
    "- - -\n",
    "\n",
    "1) $\\mathbf{U}$의 column들이 eigenvector!\n",
    "\n",
    "2) $\\Lambda$의 대각 성분이 eigenvalue!\n",
    "\n",
    "3) ```numpy``` 에서는 eigh 로 구함"
   ]
  },
  {
   "cell_type": "markdown",
   "metadata": {
    "colab_type": "text",
    "id": "rFcooSnzFRfV"
   },
   "source": [
    "#### numpy의 `linalg.eigh`를 이용한 Eigenvalue와 Eigenvector 구하기\n",
    "\n",
    "<p><img alt=\"\" src=\"https://drive.google.com/uc?id=1c-x_UUzVoT7KwcqiS8RKWP9H0kQXY1jq\" style=\"height:400px; width:650px\" /></p>\n",
    "\n",
    "\n",
    "* **return 값 확인할 것 !!!** "
   ]
  },
  {
   "cell_type": "code",
   "execution_count": 2,
   "metadata": {
    "colab": {},
    "colab_type": "code",
    "id": "ggSdd2HZFRfW"
   },
   "outputs": [],
   "source": [
    "from numpy import linalg as LA\n",
    "import numpy as np\n",
    "\n",
    "testCov = [[3, 2, 1], [2, 3, 2], [1, 2, 3]]\n",
    "eigval, eigvec = LA.eigh(testCov)"
   ]
  },
  {
   "cell_type": "code",
   "execution_count": 3,
   "metadata": {
    "colab": {},
    "colab_type": "code",
    "id": "JtBbFHyfFRfZ",
    "outputId": "feda110b-7377-45b1-ef65-05cf152bdb62"
   },
   "outputs": [
    {
     "name": "stdout",
     "output_type": "stream",
     "text": [
      "eigval의 type : <class 'numpy.ndarray'>\n",
      "eigval : [0.62771868 2.         6.37228132]\n",
      "\n",
      "eigvec의 type : <class 'numpy.ndarray'>\n",
      "eigvec : [[-4.54401349e-01  7.07106781e-01 -5.41774320e-01]\n",
      " [ 7.66184591e-01  5.55111512e-17 -6.42620551e-01]\n",
      " [-4.54401349e-01 -7.07106781e-01 -5.41774320e-01]]\n"
     ]
    }
   ],
   "source": [
    "print('eigval의 type :', type(eigval))\n",
    "print('eigval :', eigval)\n",
    "print('\\neigvec의 type :', type(eigvec))\n",
    "print('eigvec :', eigvec)"
   ]
  },
  {
   "cell_type": "markdown",
   "metadata": {
    "colab_type": "text",
    "id": "b683-xCtFRfd"
   },
   "source": [
    "1) 위 예제에서 ```eigval``` 은 $\\Lambda$ 행렬의 대각성분만을 row vector 형태로 돌려줌\n",
    "\n",
    "2) ```eigh``` 함수의 특징은 ```eigval```을 작은값에서 큰값 순으로 return함\n",
    "\n",
    "3) **★★우리는 큰 값에서 작은 값으로 정렬(내림차순)하여 사용하기로 하고 수업시간에 배운것 관 같이 eigvec 순서도 정렬해줘야함★★**\n",
    "\n",
    "예)\n",
    "$$ \\text{eigval} = [\\lambda_1, \\lambda_2, \\lambda_3 ]$$\n",
    "와\n",
    "$$ \\text{eigvec} = [\\mathbf{u}_1, \\mathbf{u}_2, \\mathbf{u}_3 ]$$\n",
    "이 주어졌을때, 만약 $\\lambda_3> \\lambda_1> \\lambda_2$ 순이라면, \n",
    "$$ \\text{eigval} = [\\lambda_3, \\lambda_1, \\lambda_2 ]$$\n",
    "\n",
    "$$ \\text{eigvec} = [\\mathbf{u}_3, \\mathbf{u}_1, \\mathbf{u}_2 ]$$\n",
    "로 재정렬"
   ]
  },
  {
   "cell_type": "markdown",
   "metadata": {
    "colab_type": "text",
    "id": "zvm-S7YgFRfe"
   },
   "source": [
    "### Excercise 1 - \n",
    "#### Eigenvalue, eigenvector 순서 정렬하기 (20 point)\n",
    "\n",
    "- - -\n",
    "\n",
    "위 ```testCov```  **행렬의 eigval 과 eigvec**을 위 설명과 같이 `내림차순` 정렬하세요\n",
    "\n",
    "<br>\n",
    "\n",
    "**★tip! `numpy_array.argsort()` 필요하면 Google에 검색해 볼 것.!★**\n",
    "\n",
    "```\n",
    "# Exercise 1 output\n",
    "\n",
    "- 정렬된 eigval: [6.37228132 2.         0.62771868]\n",
    "- 정렬된 eigvec: [[-5.41774320e-01  7.07106781e-01 -4.54401349e-01]\n",
    " [-6.42620551e-01  5.55111512e-17  7.66184591e-01]\n",
    " [-5.41774320e-01 -7.07106781e-01 -4.54401349e-01]]\n",
    "```"
   ]
  },
  {
   "cell_type": "code",
   "execution_count": 4,
   "metadata": {
    "colab": {},
    "colab_type": "code",
    "id": "YpA_9ZgDFRff"
   },
   "outputs": [
    {
     "name": "stdout",
     "output_type": "stream",
     "text": [
      "- 정렬된 eigval: [6.37228132 2.         0.62771868]\n",
      "- 정렬된 eigvec: [[-5.41774320e-01  7.07106781e-01 -4.54401349e-01]\n",
      " [-6.42620551e-01  5.55111512e-17  7.66184591e-01]\n",
      " [-5.41774320e-01 -7.07106781e-01 -4.54401349e-01]]\n"
     ]
    }
   ],
   "source": [
    "# 답작성\n",
    "sort = np.argsort(eigval)[::-1]\n",
    "eigval = eigval[sort]\n",
    "eigvec = eigvec[:,sort]\n",
    "# sort라는 변수에 numpy의 argsort함수를 사용해 내림 차순으로 정렬하는 것을 저장한다.\n",
    "# 그런 후 eigval와 eigvec에 각각 대입시켜 내림차순으로 정렬 시킨다.\n",
    "\n",
    "print(\"- 정렬된 eigval:\", eigval)\n",
    "print(\"- 정렬된 eigvec:\", eigvec)"
   ]
  },
  {
   "cell_type": "markdown",
   "metadata": {
    "colab_type": "text",
    "id": "cO9uAf00FRfh"
   },
   "source": [
    "## Computing PCA using RDDs"
   ]
  },
  {
   "cell_type": "markdown",
   "metadata": {
    "colab_type": "text",
    "id": "r2tHHZHgFRfi"
   },
   "source": [
    "##  PCA\n",
    "\n",
    "- - -\n",
    "\n",
    "이번 실습에서는 PCA를 weather data 중에서 NY state의 SNWD data를 활용하여 수행함\n",
    "\n",
    "\n",
    "1) Covariance를 구하는 부분은 코드를 아래 이미 작성된 코드를 따라가면 됨\n",
    "\n",
    "2) 이미 지난 숙제를 통해서 배운 단계이니, 코드를 파악하는 것이 중요함\n",
    "\n",
    "2) 단, 결과를 어떤 방식으로 저장하는지 파악을 해야 이후 단계에서 불러와서 처리할 수 있기 때문에 코드를 이해해야 합니다\n"
   ]
  },
  {
   "cell_type": "code",
   "execution_count": 5,
   "metadata": {
    "colab": {},
    "colab_type": "code",
    "id": "VtOKD-l6FRfj",
    "outputId": "142d3467-0918-454c-9467-5899ba8f5ae1"
   },
   "outputs": [
    {
     "data": {
      "text/plain": [
       "'/home/jovyan/work'"
      ]
     },
     "execution_count": 5,
     "metadata": {},
     "output_type": "execute_result"
    }
   ],
   "source": [
    "from os import getcwd\n",
    "getcwd()"
   ]
  },
  {
   "cell_type": "code",
   "execution_count": 6,
   "metadata": {
    "colab": {},
    "colab_type": "code",
    "id": "tCZ_I8dDFRfl"
   },
   "outputs": [],
   "source": [
    "from pyspark import SparkContext,SparkConf\n",
    "from pyspark.sql import *\n",
    "import numpy as np\n",
    "\n",
    "sc = SparkContext(master = 'local[*]')\n",
    "sqlContext = SQLContext(sc)"
   ]
  },
  {
   "cell_type": "code",
   "execution_count": null,
   "metadata": {
    "ExecuteTime": {
     "end_time": "2018-04-26T05:28:22.424322Z",
     "start_time": "2018-04-26T05:28:12.208419Z"
    },
    "colab": {},
    "colab_type": "code",
    "id": "nyuNZIJuFRfp",
    "outputId": "e319e476-902a-495c-890f-f7b867518228"
   },
   "outputs": [
    {
     "name": "stdout",
     "output_type": "stream",
     "text": [
      "Downloading 1hAHV6vC6FvVgrYnoN-lR-IfH488-H121 into Data/Weather/NY.tgz... "
     ]
    }
   ],
   "source": [
    "# weather parquet file download 하기\n",
    "state='NY'\n",
    "data_dir='Data/Weather'\n",
    "\n",
    "tarname=state+'.tgz'\n",
    "parquet=state+'.parquet'\n",
    "\n",
    "%mkdir -p $data_dir\n",
    "!rm -rf $data_dir/$tarname\n",
    "\n",
    "from google_drive_downloader import GoogleDriveDownloader as gdd\n",
    "gdd.download_file_from_google_drive(file_id='1hAHV6vC6FvVgrYnoN-lR-IfH488-H121',\n",
    "                                   dest_path = 'Data/Weather/NY.tgz')\n",
    "\n",
    "!ls -lh $data_dir/$tarname"
   ]
  },
  {
   "cell_type": "code",
   "execution_count": null,
   "metadata": {
    "colab": {},
    "colab_type": "code",
    "id": "vfv07-mgFRfr",
    "outputId": "1779781d-2e8a-4d0c-c88c-6652d54f495d"
   },
   "outputs": [],
   "source": [
    "# 다운받은 파일 압축 풀기\n",
    "cur_dir,=!pwd\n",
    "%cd $data_dir\n",
    "!tar -xzf $tarname\n",
    "!du ./$parquet\n",
    "%cd $cur_dir"
   ]
  },
  {
   "cell_type": "code",
   "execution_count": null,
   "metadata": {
    "ExecuteTime": {
     "end_time": "2018-04-26T05:28:30.778224Z",
     "start_time": "2018-04-26T05:28:30.650157Z"
    },
    "colab": {},
    "colab_type": "code",
    "id": "SQRksrfIFRfu",
    "outputId": "2413633d-5321-4b2e-e3ef-83f96f1da130"
   },
   "outputs": [],
   "source": [
    "# 압축 푼 파일 확인\n",
    "parquet_path = data_dir+'/'+parquet\n",
    "!du -sh $parquet_path"
   ]
  },
  {
   "cell_type": "code",
   "execution_count": null,
   "metadata": {
    "ExecuteTime": {
     "end_time": "2018-04-26T05:28:37.976442Z",
     "start_time": "2018-04-26T05:28:34.428905Z"
    },
    "colab": {},
    "colab_type": "code",
    "id": "0f-rSWSEFRfw",
    "outputId": "263062cc-6596-4e38-8fbf-21f1412c6e83",
    "scrolled": true
   },
   "outputs": [],
   "source": [
    "# dataframe으로 변환 \n",
    "df = sqlContext.read.parquet(parquet_path)\n",
    "print(df.count())\n",
    "df.show(5)"
   ]
  },
  {
   "cell_type": "code",
   "execution_count": null,
   "metadata": {
    "ExecuteTime": {
     "end_time": "2018-04-26T05:28:45.529361Z",
     "start_time": "2018-04-26T05:28:45.374189Z"
    },
    "colab": {},
    "colab_type": "code",
    "id": "OR00g2Z-FRfz"
   },
   "outputs": [],
   "source": [
    "# table 등록\n",
    "sqlContext.registerDataFrameAsTable(df,'table')"
   ]
  },
  {
   "cell_type": "code",
   "execution_count": null,
   "metadata": {
    "ExecuteTime": {
     "end_time": "2018-04-19T16:10:13.085184Z",
     "start_time": "2018-04-19T16:10:13.080807Z"
    },
    "colab": {},
    "colab_type": "code",
    "id": "Ghmd5xeYFRf1"
   },
   "outputs": [],
   "source": [
    "# 지난 주 숙제에 활용했던 함수 불러오기\n",
    "import numpy as np\n",
    "from numpy import linalg as LA\n",
    "\n",
    "def outerProduct(X):\n",
    "    \"\"\"Computer outer product and indicate which locations in matrix are undefined\"\"\"\n",
    "    O = np.outer(X, X)\n",
    "    N = 1 - np.isnan(O)\n",
    "    return (O, N)\n",
    "\n",
    "def sumWithNan(M1, M2):\n",
    "    \"\"\"Add two pairs of (matrix,count)\"\"\"\n",
    "    (X1, N1) = M1\n",
    "    (X2, N2) = M2\n",
    "    N = N1 + N2\n",
    "    X = np.nansum(np.dstack((X1,X2)), axis = 2)\n",
    "    return (X, N)\n",
    "\n",
    "# calculation function\n",
    "def calc_func(S, N):\n",
    "    # E is the sum of the vectors\n",
    "    E = S[0, 1:]\n",
    "    # NE is the number of not-nan antries for each coordinate of the vectors\n",
    "    NE = np.float64(N[0, 1:])\n",
    "    # Mean is the Mean vector (ignoring nans)\n",
    "    Mean = E / NE\n",
    "    # O is the sum of the outer products\n",
    "    O = S[1:,1:]\n",
    "    # NO is the number of non-nans in the outer product.\n",
    "    NO = np.float64(N[1:,1:])\n",
    "    return  E, NE, Mean, O, NO"
   ]
  },
  {
   "cell_type": "code",
   "execution_count": null,
   "metadata": {
    "ExecuteTime": {
     "end_time": "2018-04-19T16:10:13.085184Z",
     "start_time": "2018-04-19T16:10:13.080807Z"
    },
    "colab": {},
    "colab_type": "code",
    "id": "cY-8wuZmFRf3"
   },
   "outputs": [],
   "source": [
    "# Covaraince 연산하기 \n",
    "# 마지막에 return 값 확인 필수~!!!!\n",
    "def computeCov(RDDin):\n",
    "    \"\"\"computeCov recieves as input an RDD of np arrays, all of the same length, \n",
    "    and computes the covariance matrix for that set of vectors\"\"\"\n",
    "    RDD = RDDin.map(lambda v:np.array(np.insert(v,0,1),dtype=np.float64)) \n",
    "    OuterRDD = RDD.map(outerProduct)   \n",
    "    (S, N) = OuterRDD.reduce(sumWithNan)\n",
    "    E, NE, Mean, O, NO = calc_func(S, N)\n",
    "\n",
    "    Cov=O/NO - np.outer(Mean,Mean)\n",
    "    # Output also the diagnal which is the variance for each day\n",
    "    Var=np.array([Cov[i,i] for i in range(Cov.shape[0])])\n",
    "    return {'E':E, 'NE':NE, 'O':O, 'NO':NO, 'Cov':Cov, 'Mean':Mean, 'Var':Var}"
   ]
  },
  {
   "cell_type": "code",
   "execution_count": null,
   "metadata": {
    "colab": {},
    "colab_type": "code",
    "id": "NrvGzYnAFRf5"
   },
   "outputs": [],
   "source": [
    "# STAT_Description 본 함수 자료를 설명해주는 설명서임 \"text\"라고 간주하면됨\n",
    "\n",
    "# description of data returned by computeOverAllDist\n",
    "STAT_Descriptions = [\n",
    " ('E', 'Sum of values per day', (365,)),\n",
    " ('NE', 'count of values per day', (365,)),\n",
    " ('Mean', 'E/NE', (365,)),\n",
    " ('O', 'Sum of outer products', (365, 365)),\n",
    " ('NO', 'counts for outer products', (365, 365)),\n",
    " ('Cov', 'O/NO', (365, 365)),\n",
    " ('Var', 'The variance per day = diagonal of Cov', (365,)),\n",
    " ('eigval', 'PCA eigen-values', (365,)),\n",
    " ('eigvec', 'PCA eigen-vectors', (365, 365))\n",
    "]\n",
    "\n"
   ]
  },
  {
   "cell_type": "code",
   "execution_count": null,
   "metadata": {
    "colab": {},
    "colab_type": "code",
    "id": "SRljc2FwFRf_",
    "outputId": "503120bf-4c7c-49e6-ce42-006f527362cd"
   },
   "outputs": [],
   "source": [
    "# 위 함수를 활용한 covariance, mean 등을 연산하여 정리하는  main code\n",
    "\n",
    "from time import time\n",
    "\n",
    "sqlContext.registerDataFrameAsTable(df,'weather')\n",
    "\n",
    "meas = 'SNWD'\n",
    "STAT = {meas : {}}\n",
    "Query = \"SELECT * FROM weather\\n\\tWHERE measurement = '%s'\"%(meas)\n",
    "mdf = sqlContext.sql(Query)\n",
    "print(meas,': shape of mdf is ', mdf.count())\n",
    "\n",
    "data = mdf.rdd.map(lambda row: np.frombuffer(row['Values'],np.float16))\n",
    "data.take(3)\n",
    "\n",
    "# compute covariance matrix\n",
    "OUT = computeCov(data)"
   ]
  },
  {
   "cell_type": "code",
   "execution_count": null,
   "metadata": {
    "colab": {},
    "colab_type": "code",
    "id": "RRKTQWIGFRgB",
    "outputId": "45b3844d-908b-4f28-ab42-5222a44a22ae"
   },
   "outputs": [],
   "source": [
    "# OUT가 지난 숙제에서 구한 값들을 weather data 에 적용한 출력 결과임\n",
    "# 저장 구조 확인 필!\n",
    "# {'E':E, 'NE':NE, 'O':O, 'NO':NO, 'Cov':Cov, 'Mean':Mean, 'Var':Var}\n",
    "print(OUT)"
   ]
  },
  {
   "cell_type": "markdown",
   "metadata": {
    "colab_type": "text",
    "id": "NegHWyaRFRgD"
   },
   "source": [
    "### Excercise 2 - \n",
    "#### 위에서 구한 결과에서 Covariance matrix 결과 출력 (5 point)\n",
    "\n",
    "- - -\n",
    "\n",
    "``OUT``를 활용하여 Covariance matrix 를 출력하세요.\n",
    "\n",
    "<br>\n",
    "\n",
    "```\n",
    "\n",
    "# Exersize 1 output\n",
    "\n",
    " -> Covariance: [[24533.75726199 23941.70598575 23066.17130249 ...  7617.9044827\n",
    "   7379.92048087  7567.8603963 ]\n",
    " [23941.70598575 25449.46142512 24666.0064621  ...  8210.2973947\n",
    "   7965.20806728  8099.41512562]\n",
    " [23066.17130249 24666.0064621  26146.73215052 ...  8308.3103615\n",
    "   7994.01160222  8034.86789953]\n",
    " ...\n",
    " [ 7617.9044827   8210.2973947   8308.3103615  ... 24550.3332284\n",
    "  23487.93871963 22274.63652772]\n",
    " [ 7379.92048087  7965.20806728  7994.01160222 ... 23487.93871963\n",
    "  24583.45550868 23206.83678396]\n",
    " [ 7567.8603963   8099.41512562  8034.86789953 ... 22274.63652772\n",
    "  23206.83678396 24550.66736384]]\n",
    "```"
   ]
  },
  {
   "cell_type": "code",
   "execution_count": null,
   "metadata": {
    "colab": {},
    "colab_type": "code",
    "id": "53iwFtMiFRgE"
   },
   "outputs": [],
   "source": [
    "### Excercise 2 - \n",
    "# 결과 출력\n",
    "\n",
    "print(\"Covariance:\", OUT['Cov']) \n",
    "# 딕셔녀리를 리턴하는 computeCov함수를 OUT에 저장했으며 covarianc를 구하기위해 OUT에 저장된 computeCov함수가 리턴하는 딕셔너리의 covariance\n",
    "# 를 연산하는 부분을 사용하여 covariance를 계산한다."
   ]
  },
  {
   "cell_type": "markdown",
   "metadata": {
    "colab_type": "text",
    "id": "eJiwjNRkFRgH"
   },
   "source": [
    "### Excercise 3 - (10 point)\n",
    "\n",
    "##### Eigenvector, Eigenvalue 구하기\n",
    "\n",
    "- - -\n",
    "\n",
    "위에서 구한 SWND data에 대한 Covariance 행렬을 활용하여 eigen value decompotion을 수행하세요. \n",
    "\n",
    "<br>\n",
    "\n",
    "**task**\n",
    "\n",
    "* 1.`eigen value 들은 eigval(변수명)` 로 저장 & `eigen vector 들은 eigvec(변수명)` 로 저장하세요\n",
    "\n",
    "* 2. 순서를 eigen value 값이 큰값에서 작은 값이 되도록 정렬(내림차순)하고 eigen vector로 같은 원리로 정렬하세요\n",
    "\n",
    "<br>\n",
    "\n",
    "* 3. STAT dictionary에 'eigval'과 'eigvec' 항목을 추가하여 저장하는 부분은 주어지니, 형식에 맞춰서 저장하면 됩니다\n",
    "\n",
    "<br> \n",
    "\n",
    "**★위 STAT 값은 아래에서 계속 활용되니 저장되는 형식을 숙지하세요★**\n",
    "\n",
    "\n",
    "```\n",
    "# task3-3 output\n",
    "STAT[meas]['eigval'] [2742008.05793794  446193.78915167  224680.76680016  219381.26116906\n",
    "  144138.98799991]\n",
    "\n",
    "STAT[meas]['eigvec'] [[ 0.05931374  0.04804572 -0.11539879 -0.09368921 -0.0639553 ]\n",
    " [ 0.06106329  0.05172329 -0.11584723 -0.10096473 -0.07025214]\n",
    " [ 0.06355908  0.05964688 -0.12121571 -0.10394116 -0.08376024]\n",
    " [ 0.06565279  0.06796906 -0.12550461 -0.11100038 -0.0984372 ]\n",
    " [ 0.06690595  0.06990584 -0.130131   -0.10568974 -0.10882927]]\n",
    "\n",
    "```"
   ]
  },
  {
   "cell_type": "markdown",
   "metadata": {
    "colab_type": "text",
    "id": "hcbliTr6FRgI"
   },
   "source": [
    "**task**\n",
    "\n",
    "* 1.`eigen value 들은 eigval(변수명)` 로 저장 & `eigen vector 들은 eigvec(변수명)` 로 저장하세요(5 point)\n",
    "\n",
    "* 2. 순서를 eigen value 값이 큰값에서 작은 값이 되도록 정렬(내림차순)하고 eigen vector로 같은 원리로 정렬하세요(5 point)"
   ]
  },
  {
   "cell_type": "code",
   "execution_count": null,
   "metadata": {},
   "outputs": [],
   "source": [
    "eigval, eigvec = LA.eigh(OUT['Cov']) # eigen value와 eigen vector를 위에서 구한 OUT 딕셔너리에 저장된 Covariance행렬을 \n",
    "                                     #각각 eigval과 eigvec으로 저장 한다.\n",
    "sort = np.argsort(eigval)[::-1]     # 그런 후 내릴 차순으로 정렬 한다.\n",
    "eigval = eigval[sort]\n",
    "eigvec = eigvec[:,sort]\n"
   ]
  },
  {
   "cell_type": "markdown",
   "metadata": {
    "colab_type": "text",
    "id": "af6Fb3oGFRgL"
   },
   "source": [
    "**task**\n",
    "\n",
    "* 3. STAT dictionary에 'eigval'과 'eigvec' 항목을 추가하여 저장하는 부분은 주어지니, 형식에 맞춰서 저장하면 됩니다\n",
    "\n",
    "```\n",
    "# task3-3 output\n",
    "STAT[meas]['eigval'] [2742008.05793794  446193.78915167  224680.76680016  219381.26116906\n",
    "  144138.98799991]\n",
    "\n",
    "STAT[meas]['eigvec'] [[ 0.05931374  0.04804572 -0.11539879 -0.09368921 -0.0639553 ]\n",
    " [ 0.06106329  0.05172329 -0.11584723 -0.10096473 -0.07025214]\n",
    " [ 0.06355908  0.05964688 -0.12121571 -0.10394116 -0.08376024]\n",
    " [ 0.06565279  0.06796906 -0.12550461 -0.11100038 -0.0984372 ]\n",
    " [ 0.06690595  0.06990584 -0.130131   -0.10568974 -0.10882927]]\n",
    "\n",
    "```"
   ]
  },
  {
   "cell_type": "code",
   "execution_count": null,
   "metadata": {
    "colab": {},
    "colab_type": "code",
    "id": "xW0mAqkvFRgM",
    "scrolled": true
   },
   "outputs": [],
   "source": [
    "# collect all of the statistics in STAT[meas]\n",
    "STAT[meas]['eigval'] = eigval\n",
    "STAT[meas]['eigvec'] = eigvec\n",
    "STAT[meas].update(OUT)\n",
    "\n",
    "print(\"STAT[meas]['eigval']\", STAT[meas]['eigval'][:5])\n",
    "print(\"\\nSTAT[meas]['eigvec']\", STAT[meas]['eigvec'][:5,:5])"
   ]
  },
  {
   "cell_type": "code",
   "execution_count": null,
   "metadata": {
    "colab": {},
    "colab_type": "code",
    "id": "JgpBwiN-FRgR",
    "outputId": "0d13d7a7-5c8f-4e96-cbae-2aba05a3c495"
   },
   "outputs": [],
   "source": [
    "# 새롭게 구한 eigval, eigvec dictionary에 잘 추가되었는지 확인\n",
    "STAT['SNWD'].keys()"
   ]
  },
  {
   "cell_type": "markdown",
   "metadata": {
    "colab_type": "text",
    "id": "PNpNtLFkFRgU"
   },
   "source": [
    "### Script for plotting yearly plots "
   ]
  },
  {
   "cell_type": "code",
   "execution_count": null,
   "metadata": {
    "colab": {},
    "colab_type": "code",
    "id": "roE07FnHFRgV"
   },
   "outputs": [],
   "source": [
    "from matplotlib import *\n",
    "from matplotlib.pylab import subplot,axis\n",
    "import sys\n",
    "from pylab import *"
   ]
  },
  {
   "cell_type": "markdown",
   "metadata": {
    "colab_type": "text",
    "id": "yZHjmFXVFRgX"
   },
   "source": [
    "### Visualization을 통한 분석\n",
    "\n",
    "1. mean 및 mean $\\pm$ std plot하기\n",
    "\n",
    "아래 예제를 통해서 plot하는 방법을 숙지하세요.\n",
    "```plot``` function은 아래와 같이 활용합니다:\n",
    "\n",
    "```plot(x축값, y축값, color='b')```\n",
    "\n",
    "여기서 ```color``` 는 graph의 색을 표현함 ```'b'```는 파란색, ```'r'```는 붉은색, ```'black'``` 검정 등\n",
    "\n",
    "```figsize``` 는 전체 그래프의 크기표시하는것으로 아래 설정해둔 값을 활용하면 됨\n",
    "\n",
    "```grid()``` 는 graph내에서 눈금자를 보이게하는 명령어임\n"
   ]
  },
  {
   "cell_type": "code",
   "execution_count": null,
   "metadata": {
    "colab": {},
    "colab_type": "code",
    "id": "NtxjniwIFRgX",
    "outputId": "a41d2ce5-323b-45bb-8f15-8a1835e35669"
   },
   "outputs": [],
   "source": [
    "figure(figsize =(10,5)) # plot의 size 조절\n",
    "\n",
    "yearday = [i for i in range(1,366)] # x축 설정(1일 ~ 365일)\n",
    "\n",
    "plot(yearday,STAT[meas]['Mean'], color='r')\n",
    "plot(yearday,STAT[meas]['Mean'] + np.sqrt(STAT[meas]['Var']), color='b')\n",
    "plot(yearday,STAT[meas]['Mean'] - np.sqrt(STAT[meas]['Var']), color='g')\n",
    "grid()"
   ]
  },
  {
   "cell_type": "markdown",
   "metadata": {
    "colab_type": "text",
    "id": "7_HvOaD2FRga"
   },
   "source": [
    "### Excercise 4 - (5 point)\n",
    "\n",
    "날짜별로 기록한 data 수 plot하기 (날짜별 non-nan data 총수)\n",
    "\n",
    "- - -\n",
    "\n",
    "**task**\n",
    "\n",
    "* ```STAT```에서 non-nan data 의 총 수를 저장한 부분(``NE``)을 활용하여 날짜별로 non-nan의 수를 출력하세요 \n",
    "\n",
    "```\n",
    "# Exercise 4 output\n",
    "```\n",
    "<p><img alt=\"\" src=\"https://drive.google.com/uc?id=17y7GmCidHSPxk-jqpZ1KcFGBYWp4_oBt\" style=\"height:300px; width:500px\" /></p>"
   ]
  },
  {
   "cell_type": "code",
   "execution_count": null,
   "metadata": {
    "colab": {},
    "colab_type": "code",
    "id": "NU9MkSPNFRgb"
   },
   "outputs": [],
   "source": [
    "# 답 작성\n",
    "figure(figsize=(10,5))\n",
    "yearday=[i for i in range(1,366)]\n",
    "plot(yearday,STAT[meas]['NE'])\n",
    "# 여기에 plot 을 활용하여 작성\n",
    "# x축에는 1부터 366까지 반복하는 for문이 들어간 yearday만큼의 범위를 지정하여  meas딕셔너리 안의 딕셔너리의 non-nan data의 총수를 저장한 'NE'\n",
    "# 를 y축으로 하여 그래프를 그린다.\n",
    "grid()"
   ]
  },
  {
   "cell_type": "markdown",
   "metadata": {
    "colab_type": "text",
    "id": "nJAMgFMfFRge"
   },
   "source": [
    "### Excercise 5 - (20 point)\n",
    "\n",
    "각 eigen vector가 전체 data 에 대해서 얼만큼 \"설명\" 해주는지 보여주는 그래프를 출력합니다.\n",
    "\n",
    "- - -\n",
    "\n",
    "각 eigen vector가 전체 데이터에 얼만큼 설명해주는지의 지표는 다음과 같이 구합니다\n",
    "\n",
    "$$\n",
    "i \\text{ 번째 성분이 설명해주는 비율} = \\frac{\\lambda_i}{\\sum_{i=1}^d \\lambda_i}\n",
    "$$\n",
    "\n",
    "**task**\n",
    "\n",
    "* 1. 다음의 절차에 따라 plot을 출력하세요(5 point)\n",
    "\n",
    "    1) xaxis =  [0, 1, 2, 3, 4, 5]\n",
    "\n",
    "    2) yaxis = \n",
    "$$ \\left[ 0, \n",
    "\\frac{\\lambda_1}{\\sum_{i=1}^d \\lambda_i}, \\frac{\\lambda_1+\\lambda_2}{\\sum_{i=1}^d \\lambda_i},\\ldots, \\frac{\\lambda_1+\\cdots + \\lambda_5}{\\sum_{i=1}^d \\lambda_i} \\right]$$\n",
    "\n",
    "<br>\n",
    "\n",
    "```\n",
    "★yaxis에 대한 hint!!!★\n",
    "# hint (cumsum 함수를 쓰면 편할수 있습니다)\n",
    "# cumsum([a, b, c, d ]) output 은 [a, a+b, a+b+c, a+b+c+d]\n",
    "print(cumsum(np.array([1, 2, 3, 4])))\n",
    "---> [ 1  3  6 10]\n",
    "```\n",
    "\n",
    "<br>\n",
    "\n",
    "\n",
    "* 2. 출력된 plot이 무엇을 의미하는지 설명을 간단하세 쓰세요(5 point)\n",
    "\n",
    "- - -\n",
    "```\n",
    "# Exercise 5 output\n",
    "```\n",
    "<p><img alt=\"\" src=\"https://drive.google.com/uc?id=1Dm7zTwGxR-GHUTzArSmzYVJNe1BEiK_b\" style=\"height:350px; width:550px\" /></p>"
   ]
  },
  {
   "cell_type": "code",
   "execution_count": null,
   "metadata": {
    "colab": {},
    "colab_type": "code",
    "id": "epNFMl_KFRge",
    "scrolled": true
   },
   "outputs": [],
   "source": [
    "# 작성\n",
    "figure(figsize=(10,5))\n",
    "xaxis = [0,1,2,3,4,5] # x축의 범위\n",
    "yaxis = [0,(cumsum(STAT[meas]['eigval']))[0]/sum(STAT[meas]['eigval']),(cumsum(STAT[meas]['eigval']))[1]/sum(STAT[meas]['eigval']),\n",
    "         (cumsum(STAT[meas]['eigval']))[2]/sum(STAT[meas]['eigval']),(cumsum(STAT[meas]['eigval']))[3]/sum(STAT[meas]['eigval']),\n",
    "         (cumsum(STAT[meas]['eigval']))[4]/sum(STAT[meas]['eigval'])]\n",
    "# eigval의 첫번째 인덱스 까지를 cumsum한 값을 eigval의 sum으로 나눈 값을 0다음의 연산값이고, 첫번째 인덱스부터 두번째 인덱스까지의 cumsum\n",
    "# 한 값을 세번째 연산값이라 하면서 6번째 연산값인 eigval의 첫번째 인덱스부터 4번째 인덱스까지의 cumsum한 값에서 eigval의 sum한 값을 나눈\n",
    "# 것을 6번째 연산값으로 하여 y축의 범위를 그린 후 그래프를 그린다.\n",
    "plot(xaxis,yaxis)\n",
    "grid()\n",
    "\n",
    "# 설명 작성 (주석으로 설명)\n",
    "# 1개의 eigen vector만 사용해서 60%의 복원력을 가짐을 볼 수 있고, 5개 정도를 사용하면 90% 가까지 복원력을 가지는 것을 볼 수 있다."
   ]
  },
  {
   "cell_type": "markdown",
   "metadata": {
    "colab_type": "text",
    "id": "l0jZyfpVFRgh"
   },
   "source": [
    "### Excercise 6 - (10 point)\n",
    "\n",
    "Top 3 Eigen vector plot\n",
    "\n",
    "- - -\n",
    "\n",
    "**task**\n",
    "\n",
    "* ```STAT```에서 Eigen vector를 저장한 부분(``eigvec``)을 활용하여 Top 3 Eigen vecotr의 plot 출력하세요 \n",
    "\n",
    "```\n",
    "# Exercise 6 output\n",
    "```\n",
    "<p><img alt=\"\" src=\"https://drive.google.com/uc?id=1fd7kCcglsXZIR3RjMsi5njX9IfONewsW\" style=\"height:400px; width:600px\" /></p>"
   ]
  },
  {
   "cell_type": "code",
   "execution_count": null,
   "metadata": {},
   "outputs": [],
   "source": []
  },
  {
   "cell_type": "code",
   "execution_count": null,
   "metadata": {
    "colab": {},
    "colab_type": "code",
    "id": "FP1QPAxrFRgi"
   },
   "outputs": [],
   "source": [
    "# 답작성\n",
    "figure(figsize=(10,5))\n",
    "# eigvec의 상위 3개만을 인덱싱하여 그래프로 그린다. 첫행의 0번째 인덱스와 , 첫행의 1번째 인덱스, 첫행의 2번째 인덱스를 각각 빨강, 초록, 파랑 순으로 그래프를 그린다.\n",
    "plot((STAT[meas]['eigvec'])[:,0], color = 'r') \n",
    "plot((STAT[meas]['eigvec'])[:,1], color = 'g')\n",
    "plot((STAT[meas]['eigvec'])[:,2], color = 'b')\n",
    "grid()\n"
   ]
  },
  {
   "cell_type": "markdown",
   "metadata": {
    "colab_type": "text",
    "id": "kLvjuoNhFRgl"
   },
   "source": [
    "### Excercise 7 - (30 point)\n",
    "\n",
    "Top 3 eigenvector로 데이터 복원하기.\n",
    "\n",
    "- - -\n",
    "\n",
    "SNWD 의 data vector를 $\\mathbf{x}$라고 가정합니다. Eigenvector 3개로 estimate한 vector를 $\\mathbf{w}_3$이라고 표기하면:\n",
    "\n",
    "$$\\mathbf{w}_3 = \\bar{\\mathbf{x}}+ \\sum_{i=1}^3 c_i\\mathbf{u}_i^T$$\n",
    "\n",
    "로 표현됩니다. 여기서 $c_i$는\n",
    "\n",
    "$$c_i =  (\\mathbf{x}-\\bar{\\mathbf{x}})\\cdot \\mathbf{u}_i$$ \n",
    "\n",
    "\n",
    "\n",
    "입니다. $\\mathbf{w}_3$와 $\\mathbf{x}$ 벡터를 plot 하세요.\n",
    "\n",
    "* 위 작업에서 활요할 data sample 은 주어집니다 (97번째 SWND 측정 Values np.array 입니다)\n",
    "\n",
    "```x = np.array(data.collect()[96], dtype=np.float64)```\n",
    "\n",
    "- - -\n",
    "\n",
    "**task**\n",
    "\n",
    "* 1. ``1,2,3 번째 eigenvector`` 와 ($\\mathbf{x}-\\bar{\\mathbf{x}}$)를 내적(`np.dot`)한 $c_1$, $c_2$, $c_3$을 구하세요(5 point)\n",
    "\n",
    "* 2. eigen vector 1,2,3번에 각각  $c_1$, $c_2$, $c_3$를 곱하고 (10 point)\n",
    "\n",
    "* 3. 위에서 구한 모든 vector 들과  $\\bar{\\mathbf{x}}$ vector를 더합니다 (10 point)\n",
    "\n",
    "* 4. 위에서 구한 $\\mathbf{w}_3$와 $\\mathbf{x}$를 plot 합니다 (10 point)\n",
    "\n",
    "<br>\n",
    "\n",
    "* 5. 96을 다른 값으로 바꿔서 놀아보세요~ 다른 sample에 대한 복원력을 보면, 잘되는 것도 있고 덜 복원되는 sample 도 있습니다 (문제는 아닙니다)\n",
    "\n",
    "* 6. eigen vector의 수도 바꿔가면서 해볼 수 있습니다 (문제는 아닙니다)\n",
    "\n",
    "* 7. 전체 365개를 활용하면 어떻게 될까요? (문제는 아닙니다)\n",
    "\n",
    "\n",
    "```\n",
    "# Exercise 7 output\n",
    "```\n",
    "<p><img alt=\"\" src=\"https://drive.google.com/uc?id=1v-adyNo0QO5V_MjlvlD21t2CnvMaHFpI\" style=\"height:400px; width:600px\" /></p>"
   ]
  },
  {
   "cell_type": "code",
   "execution_count": null,
   "metadata": {},
   "outputs": [],
   "source": [
    "x = np.array(data.collect()[96], dtype=np.float64)\n",
    "c1 = np.dot(STAT[meas]['eigvec'][:,0],x-mean(x))\n",
    "c2 = np.dot(STAT[meas]['eigvec'][:,1],x-mean(x))\n",
    "c3 = np.dot(STAT[meas]['eigvec'][:,2],x-mean(x))\n",
    "c4 = np.dot(STAT[meas]['eigvec'][:,3],x-mean(x))\n",
    "c5 = np.dot(STAT[meas]['eigvec'][:,4],x-mean(x))\n",
    "a = STAT[meas]['eigvec'][:,0] * c1\n",
    "b = STAT[meas]['eigvec'][:,1] * c2\n",
    "c = STAT[meas]['eigvec'][:,2] * c3\n",
    "d = STAT[meas]['eigvec'][:,3] * c4\n",
    "e = STAT[meas]['eigvec'][:,4] * c5\n",
    "w3 = a+b+c+d+mean(x)\n",
    "# eigvec의 상위 첫번째 부터 5번째 까지 해보았으며, x에서 x의 평균을 뺀 값과 내적한 후 그 값을 다시 eigvec의 상위 5개의 값에 곱한 후\n",
    "# 그 값을 x의 평균치와 모두 더해준다. 원래 문제의 w를 3개 사용한 것 보다 5개로 늘려 주었더니 레이블 그래프를 더욱 더 세밀하게 따라가는 것을\n",
    "# 볼 수 있었는데 이는 복원력이 더욱 더 좋아졌다고 볼 수 있다.\n",
    "\n",
    "figure(figsize=(10,5))\n",
    "plot(yearday, x, c='b')\n",
    "plot(yearday, w3, c='r')\n",
    "grid()"
   ]
  }
 ],
 "metadata": {
  "anaconda-cloud": {},
  "celltoolbar": "Slideshow",
  "colab": {
   "collapsed_sections": [],
   "name": "HW10_upload_V1.ipynb",
   "provenance": []
  },
  "hide_input": false,
  "kernelspec": {
   "display_name": "Python 3",
   "language": "python",
   "name": "python3"
  },
  "language_info": {
   "codemirror_mode": {
    "name": "ipython",
    "version": 3
   },
   "file_extension": ".py",
   "mimetype": "text/x-python",
   "name": "python",
   "nbconvert_exporter": "python",
   "pygments_lexer": "ipython3",
   "version": "3.7.3"
  },
  "name": "PCA_using_numpy for HW3",
  "notebookId": 85286,
  "toc": {
   "base_numbering": 1,
   "nav_menu": {
    "height": "116px",
    "width": "252px"
   },
   "number_sections": true,
   "sideBar": true,
   "skip_h1_title": false,
   "title_cell": "Table of Contents",
   "title_sidebar": "Contents",
   "toc_cell": false,
   "toc_position": {},
   "toc_section_display": "block",
   "toc_window_display": false
  }
 },
 "nbformat": 4,
 "nbformat_minor": 1
}
